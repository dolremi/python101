{
 "cells": [
  {
   "cell_type": "markdown",
   "id": "703ca1b7",
   "metadata": {},
   "source": [
    "# 字典Dictionary\n",
    "\n",
    "> 什么是字典\n",
    "- order: 9"
   ]
  },
  {
   "cell_type": "markdown",
   "id": "a10f6c74",
   "metadata": {},
   "source": [
    "在Python中除了序列数据结构，字典作为一种键值对的映射数据结构，通过键(key)而不是数字索引来查找相关值。作为一种重要的数据结构，它是可变的并且无序的键值对集合。"
   ]
  },
  {
   "cell_type": "markdown",
   "id": "78c4298c",
   "metadata": {},
   "source": [
    ":::{.callout_note}\n",
    "在字典中，键是作为字典的索引，必须是唯一的，这样才能确保通过键可以找到相同的值，并且可以利用[哈希表](https://cloud.tencent.com/developer/article/1432801)快速查找\n",
    ":::"
   ]
  },
  {
   "cell_type": "markdown",
   "id": "3242c8ff",
   "metadata": {},
   "source": [
    "## 创建\n",
    "使用花括号{}创建，键和值用冒号:分隔,不同项之间用逗号,分隔。"
   ]
  },
  {
   "cell_type": "code",
   "execution_count": 1,
   "id": "0c3cf9ab",
   "metadata": {},
   "outputs": [],
   "source": [
    "empty_dict = {}\n",
    "coffee_dict = {'瑞幸': 10, '星巴克': 15, 'manner': 30, 'M stand': 35}"
   ]
  },
  {
   "cell_type": "markdown",
   "id": "05975937",
   "metadata": {},
   "source": [
    "## 键的特性\n",
    "在字典中，键除了唯一的以外，必须是不可变类型。键可以是任何不可变类型；字符串和数字总是可以作为键。 如果一个元组只包含字符串、数字或元组则也可以作为键；如果一个元组直接或间接地包含了任何可变对象，则 __不能作为键__ 。 列表不能作为键，因为列表可以使用索引赋值、切片赋值或者`append()`和`extend()`等方法进行原地修改列表。"
   ]
  },
  {
   "cell_type": "markdown",
   "id": "33b5a999",
   "metadata": {},
   "source": [
    "## 访问值\n",
    "区别于序列数据结构，字典中的值是通过键作为索引访问的。"
   ]
  },
  {
   "cell_type": "code",
   "execution_count": 2,
   "id": "dba625da",
   "metadata": {},
   "outputs": [
    {
     "name": "stdout",
     "output_type": "stream",
     "text": [
      "瑞幸剩余库存是:10\n"
     ]
    }
   ],
   "source": [
    "print(f\"瑞幸剩余库存是:{coffee_dict['瑞幸']}\")"
   ]
  },
  {
   "cell_type": "markdown",
   "id": "9210e97e",
   "metadata": {},
   "source": [
    "## 修改和添加\n",
    "通过按照`dict[key] = value`的格式可以快速实现修改或者添加新的键值对。"
   ]
  },
  {
   "cell_type": "code",
   "execution_count": 3,
   "id": "f2547438",
   "metadata": {},
   "outputs": [
    {
     "data": {
      "text/plain": [
       "{'瑞幸': 10, '星巴克': 23, 'manner': 30, 'M stand': 35}"
      ]
     },
     "execution_count": 3,
     "metadata": {},
     "output_type": "execute_result"
    }
   ],
   "source": [
    "coffee_dict['星巴克'] = 23\n",
    "coffee_dict"
   ]
  },
  {
   "cell_type": "code",
   "execution_count": 4,
   "id": "00a9881e",
   "metadata": {},
   "outputs": [
    {
     "data": {
      "text/plain": [
       "{'瑞幸': 10, '星巴克': 23, 'manner': 30, 'M stand': 35, 'Beets Coffee': 50}"
      ]
     },
     "execution_count": 4,
     "metadata": {},
     "output_type": "execute_result"
    }
   ],
   "source": [
    "coffee_dict['Beets Coffee'] = 50\n",
    "coffee_dict"
   ]
  },
  {
   "cell_type": "markdown",
   "id": "e83a5fc5",
   "metadata": {},
   "source": [
    "## 删除"
   ]
  },
  {
   "cell_type": "code",
   "execution_count": 6,
   "id": "92711230",
   "metadata": {},
   "outputs": [],
   "source": [
    "del coffee_dict['Beets Coffee']"
   ]
  },
  {
   "cell_type": "code",
   "execution_count": 7,
   "id": "81f6c2ac",
   "metadata": {},
   "outputs": [],
   "source": [
    "coffee_dict_modified = coffee_dict.pop('manner')"
   ]
  },
  {
   "cell_type": "code",
   "execution_count": 8,
   "id": "11411f65",
   "metadata": {},
   "outputs": [
    {
     "data": {
      "text/plain": [
       "30"
      ]
     },
     "execution_count": 8,
     "metadata": {},
     "output_type": "execute_result"
    }
   ],
   "source": [
    "coffee_dict_modified"
   ]
  },
  {
   "cell_type": "code",
   "execution_count": 9,
   "id": "5186c7a9",
   "metadata": {},
   "outputs": [
    {
     "data": {
      "text/plain": [
       "{'瑞幸': 10, '星巴克': 23, 'M stand': 35}"
      ]
     },
     "execution_count": 9,
     "metadata": {},
     "output_type": "execute_result"
    }
   ],
   "source": [
    "coffee_dict"
   ]
  },
  {
   "cell_type": "markdown",
   "id": "fb52fe76",
   "metadata": {},
   "source": [
    "## 常用方法\n",
    "下面罗列一些常用方法"
   ]
  },
  {
   "cell_type": "code",
   "execution_count": 10,
   "id": "a2374eb6",
   "metadata": {},
   "outputs": [
    {
     "data": {
      "text/plain": [
       "dict_keys(['瑞幸', '星巴克', 'M stand'])"
      ]
     },
     "execution_count": 10,
     "metadata": {},
     "output_type": "execute_result"
    }
   ],
   "source": [
    "coffee_dict.keys()"
   ]
  },
  {
   "cell_type": "code",
   "execution_count": 11,
   "id": "244564ce",
   "metadata": {},
   "outputs": [
    {
     "data": {
      "text/plain": [
       "dict_values([10, 23, 35])"
      ]
     },
     "execution_count": 11,
     "metadata": {},
     "output_type": "execute_result"
    }
   ],
   "source": [
    "coffee_dict.values()"
   ]
  },
  {
   "cell_type": "code",
   "execution_count": 13,
   "id": "771556db",
   "metadata": {},
   "outputs": [
    {
     "data": {
      "text/plain": [
       "dict_items([('瑞幸', 10), ('星巴克', 23), ('M stand', 35)])"
      ]
     },
     "execution_count": 13,
     "metadata": {},
     "output_type": "execute_result"
    }
   ],
   "source": [
    "coffee_dict.items()"
   ]
  },
  {
   "cell_type": "code",
   "execution_count": 14,
   "id": "9e787799",
   "metadata": {},
   "outputs": [
    {
     "data": {
      "text/plain": [
       "35"
      ]
     },
     "execution_count": 14,
     "metadata": {},
     "output_type": "execute_result"
    }
   ],
   "source": [
    "coffee_dict.get('M stand')"
   ]
  },
  {
   "cell_type": "code",
   "execution_count": 15,
   "id": "e6e913cf",
   "metadata": {},
   "outputs": [],
   "source": [
    "coffee_dict.update({'Beets Coffee': 24})"
   ]
  },
  {
   "cell_type": "code",
   "execution_count": 16,
   "id": "5dff0176",
   "metadata": {},
   "outputs": [
    {
     "data": {
      "text/plain": [
       "{'瑞幸': 10, '星巴克': 23, 'M stand': 35, 'Beets Coffee': 24}"
      ]
     },
     "execution_count": 16,
     "metadata": {},
     "output_type": "execute_result"
    }
   ],
   "source": [
    "coffee_dict"
   ]
  },
  {
   "cell_type": "markdown",
   "id": "f120e91b",
   "metadata": {},
   "source": [
    "## 字典推导式\n",
    "类似于列表推导式，字典也有自己方式快速建立字典"
   ]
  },
  {
   "cell_type": "code",
   "execution_count": 17,
   "id": "cdbdfcf9",
   "metadata": {},
   "outputs": [],
   "source": [
    "squares = {x: x**2 for x in range(5)}"
   ]
  },
  {
   "cell_type": "code",
   "execution_count": 18,
   "id": "e3ea31fb",
   "metadata": {},
   "outputs": [
    {
     "data": {
      "text/plain": [
       "{0: 0, 1: 1, 2: 4, 3: 9, 4: 16}"
      ]
     },
     "execution_count": 18,
     "metadata": {},
     "output_type": "execute_result"
    }
   ],
   "source": [
    "squares"
   ]
  },
  {
   "cell_type": "markdown",
   "id": "8ba2f7b7",
   "metadata": {},
   "source": [
    "字典的查找、插入和删除操作都是十分高效的"
   ]
  },
  {
   "cell_type": "markdown",
   "id": "385e5c25",
   "metadata": {},
   "source": [
    "#### 课后作业\n",
    "利用字典的功能设计一个简单的聊天机器人，可以将用户常用的对话用字典的形式保存起来，用户通过选择固定的问题得到机器人的回答。"
   ]
  },
  {
   "cell_type": "code",
   "execution_count": null,
   "id": "8f4c8db4",
   "metadata": {},
   "outputs": [],
   "source": []
  }
 ],
 "metadata": {
  "kernelspec": {
   "display_name": "Python 3 (ipykernel)",
   "language": "python",
   "name": "python3"
  },
  "language_info": {
   "codemirror_mode": {
    "name": "ipython",
    "version": 3
   },
   "file_extension": ".py",
   "mimetype": "text/x-python",
   "name": "python",
   "nbconvert_exporter": "python",
   "pygments_lexer": "ipython3",
   "version": "3.11.7"
  },
  "toc": {
   "base_numbering": 1,
   "nav_menu": {},
   "number_sections": true,
   "sideBar": true,
   "skip_h1_title": false,
   "title_cell": "Table of Contents",
   "title_sidebar": "Contents",
   "toc_cell": false,
   "toc_position": {},
   "toc_section_display": true,
   "toc_window_display": false
  }
 },
 "nbformat": 4,
 "nbformat_minor": 5
}
