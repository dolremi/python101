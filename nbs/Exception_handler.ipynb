{
 "cells": [
  {
   "cell_type": "markdown",
   "id": "ee2095bb",
   "metadata": {},
   "source": [
    "# 异常处理\n",
    "\n",
    "> 怎么处理异常？\n",
    "- order: 10"
   ]
  },
  {
   "cell_type": "markdown",
   "id": "3687363e",
   "metadata": {},
   "source": [
    "在Python中，错误可以分为两种：__语法错误__ 和 __异常__。其中语法错误是学习Python中常见的错误，如下例："
   ]
  },
  {
   "cell_type": "code",
   "execution_count": 1,
   "id": "9ddb99cb",
   "metadata": {},
   "outputs": [
    {
     "ename": "SyntaxError",
     "evalue": "invalid syntax (3732902256.py, line 1)",
     "output_type": "error",
     "traceback": [
      "\u001b[0;36m  Cell \u001b[0;32mIn[1], line 1\u001b[0;36m\u001b[0m\n\u001b[0;31m    if True print(\"Hello world\")\u001b[0m\n\u001b[0m            ^\u001b[0m\n\u001b[0;31mSyntaxError\u001b[0m\u001b[0;31m:\u001b[0m invalid syntax\n"
     ]
    }
   ],
   "source": [
    "if True print(\"Hello world\")"
   ]
  },
  {
   "cell_type": "markdown",
   "id": "7070c39f",
   "metadata": {},
   "source": [
    "语法错误是解析器解析时发现程序编写时的语法错误，作为程序员应该要极力避免的错误。这里我们主要讨论另一类错误，异常。"
   ]
  },
  {
   "cell_type": "markdown",
   "id": "07d4d806",
   "metadata": {},
   "source": [
    "## 什么是异常?\n",
    "异常是程序执行过程中发生的事件，通常会影响程序的正常执行。它们是Python对象，表示一个错误状态。当Python脚本发生异常时，如果不进行处理，程序将终止执行，并输出错误信息。"
   ]
  },
  {
   "cell_type": "markdown",
   "id": "f3b64c48",
   "metadata": {},
   "source": [
    "## 异常处理机制\n",
    "Python的异常处理使用`try`、`except`、`else`和`finally`语句块来捕获和处理异常。"
   ]
  },
  {
   "cell_type": "markdown",
   "id": "1a70f467",
   "metadata": {},
   "source": [
    "### 基本语法"
   ]
  },
  {
   "cell_type": "code",
   "execution_count": 2,
   "id": "099c924a",
   "metadata": {},
   "outputs": [
    {
     "ename": "IndentationError",
     "evalue": "expected an indented block after 'try' statement on line 1 (1192898691.py, line 3)",
     "output_type": "error",
     "traceback": [
      "\u001b[0;36m  Cell \u001b[0;32mIn[2], line 3\u001b[0;36m\u001b[0m\n\u001b[0;31m    except ExceptionType:\u001b[0m\n\u001b[0m    ^\u001b[0m\n\u001b[0;31mIndentationError\u001b[0m\u001b[0;31m:\u001b[0m expected an indented block after 'try' statement on line 1\n"
     ]
    }
   ],
   "source": [
    "try:\n",
    "    # 可能引发异常的代码\n",
    "except ExceptionType:\n",
    "    # 处理特定异常\n",
    "else:\n",
    "    # 如果没有异常发生时执行的代码\n",
    "finally:\n",
    "    # 无论是否发生异常都会执行的代码"
   ]
  },
  {
   "cell_type": "markdown",
   "id": "835765ad",
   "metadata": {},
   "source": [
    "`try`：将可能引发异常的代码放在此块中。\n",
    "`except`：捕获并处理特定类型的异常。\n",
    "`else`：在没有发生任何异常时执行的代码块（可选）。\n",
    "`finally`：无论是否发生异常，都会执行的代码块（通常用于清理资源）。"
   ]
  },
  {
   "cell_type": "markdown",
   "id": "f733f839",
   "metadata": {},
   "source": [
    ":::{.callout_note}\n",
    "注意与`if`区别看待，`if`条件判断一般用于场景\n",
    ":::"
   ]
  },
  {
   "cell_type": "markdown",
   "id": "4b5d543c",
   "metadata": {},
   "source": [
    "###  捕获异常"
   ]
  },
  {
   "cell_type": "code",
   "execution_count": 3,
   "id": "4f1385b2",
   "metadata": {},
   "outputs": [
    {
     "name": "stdout",
     "output_type": "stream",
     "text": [
      "Error: division by zero\n"
     ]
    }
   ],
   "source": [
    "try:\n",
    "    result = 10 / 0\n",
    "except ZeroDivisionError as e:\n",
    "    print(f\"Error: {e}\")\n",
    "except Exception as e:\n",
    "    print(f\"Unexpected error: {e}\")"
   ]
  },
  {
   "cell_type": "markdown",
   "id": "0f5ba232",
   "metadata": {},
   "source": [
    "## 抛出异常\n",
    "可以使用`raise`语句手动抛出异常。这在满足特定条件时非常有用"
   ]
  },
  {
   "cell_type": "code",
   "execution_count": 4,
   "id": "c316cffe",
   "metadata": {},
   "outputs": [],
   "source": [
    "def check_positive(value):\n",
    "    if value < 0:\n",
    "        raise ValueError(\"Value must be non-negative.\")"
   ]
  },
  {
   "cell_type": "markdown",
   "id": "9b2cecae",
   "metadata": {},
   "source": [
    "## 常见内置异常\n",
    "Python定义了多种内置异常类型，包括但不限于：\n",
    "* `ValueError`：传入无效参数。\n",
    "* `TypeError`：操作或函数应用于不适当类型的对象。\n",
    "* `IndexError`：序列中没有该索引。\n",
    "* `KeyError`：字典中没有该键。\n",
    "* `FileNotFoundError`：文件未找到。"
   ]
  },
  {
   "cell_type": "code",
   "execution_count": null,
   "id": "21a3b03e",
   "metadata": {},
   "outputs": [],
   "source": []
  }
 ],
 "metadata": {
  "kernelspec": {
   "display_name": "Python 3 (ipykernel)",
   "language": "python",
   "name": "python3"
  },
  "language_info": {
   "codemirror_mode": {
    "name": "ipython",
    "version": 3
   },
   "file_extension": ".py",
   "mimetype": "text/x-python",
   "name": "python",
   "nbconvert_exporter": "python",
   "pygments_lexer": "ipython3",
   "version": "3.11.7"
  },
  "toc": {
   "base_numbering": 1,
   "nav_menu": {},
   "number_sections": true,
   "sideBar": true,
   "skip_h1_title": false,
   "title_cell": "Table of Contents",
   "title_sidebar": "Contents",
   "toc_cell": false,
   "toc_position": {},
   "toc_section_display": true,
   "toc_window_display": false
  }
 },
 "nbformat": 4,
 "nbformat_minor": 5
}
