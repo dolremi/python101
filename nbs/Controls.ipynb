{
 "cells": [
  {
   "cell_type": "markdown",
   "id": "898c35ac-5514-4c6f-b344-46c7c865153b",
   "metadata": {
    "editable": true,
    "slideshow": {
     "slide_type": ""
    },
    "tags": []
   },
   "source": [
    "# 控制语句\n",
    "根据布尔变量的值作为判断形成了`if`语句的判断原型，可以从最简单的语句开始。"
   ]
  },
  {
   "cell_type": "code",
   "execution_count": 6,
   "id": "2f0c1c82-4f47-4360-a572-16e0398a8f21",
   "metadata": {},
   "outputs": [
    {
     "name": "stdout",
     "output_type": "stream",
     "text": [
      "你的体温正常\n",
      "注意保持!\n"
     ]
    }
   ],
   "source": [
    "temp = 37.5\n",
    "if temp >= 38:\n",
    "    print(\"你已经发烧了!\")\n",
    "else:\n",
    "    print(\"你的体温正常\")\n",
    "    print(\"注意保持!\")"
   ]
  },
  {
   "cell_type": "markdown",
   "id": "b6a2aa64-33b2-40df-b87a-0ff03731852f",
   "metadata": {},
   "source": [
    "从上面的例子中，通过简单的`if ... else ...`语句判断`temp`是否高于38，打印相应的语句。"
   ]
  },
  {
   "cell_type": "markdown",
   "id": "40a9e595-4d72-448d-b0b6-fc9ac8866587",
   "metadata": {},
   "source": [
    "## 多重条件\n",
    "第一个例子中只有一个判断条件：即输入变量是否大于38。如果有多个判断条件，比如接着上面的例子通过温度再细分，可以用到`elif`去添加更多的判断条件。"
   ]
  },
  {
   "cell_type": "code",
   "execution_count": 7,
   "id": "283e9030-be98-4783-9e7d-02950a9d4b78",
   "metadata": {},
   "outputs": [
    {
     "name": "stdout",
     "output_type": "stream",
     "text": [
      "嗯！这是低烧。\n"
     ]
    }
   ],
   "source": [
    "temp = 38.5\n",
    "if temp > 40:\n",
    "    print(\"哦！小心，这是高烧!\")\n",
    "elif temp >= 38:\n",
    "    print(\"嗯！这是低烧。\")\n",
    "elif temp >= 37:\n",
    "    print(\"测试\")\n",
    "else:\n",
    "    print(\"你的体温正常\")"
   ]
  },
  {
   "cell_type": "markdown",
   "id": "ab18d659-c61d-4fd0-8607-3785e2963649",
   "metadata": {},
   "source": [
    "__课后练习__: 设计一段程序，完成下面任务：根据用户输入的成绩，打印不同的成绩结果，其中大于90，打印`A`, 80-90; 打印`B`, 70-79, 打印`C`; 60-69,打印`D`;其余的打印`F`。\n",
    "包括了`input`，`if...elif`的使用,还有输入格式必须是数字。"
   ]
  },
  {
   "cell_type": "markdown",
   "id": "617f091a-4c75-4a4b-a89a-fd665d733d1a",
   "metadata": {},
   "source": [
    "## Match语句\n",
    "Python 3.10以后，引入Match语句，可以根据变量值来判断进入不同的分支。"
   ]
  },
  {
   "cell_type": "code",
   "execution_count": 9,
   "id": "bf62b910-2a42-4caa-989c-b410a039cfd5",
   "metadata": {},
   "outputs": [
    {
     "name": "stdout",
     "output_type": "stream",
     "text": [
      "Weekend\n"
     ]
    }
   ],
   "source": [
    "day = \"Sunday\"\n",
    "match day.lower():\n",
    "        case \"monday\" | \"tuesday\" | \"wednesday\" | \"thursday\" | \"friday\":\n",
    "            print(\"Weekday\")\n",
    "        case \"saturday\" | \"sunday\":\n",
    "            print(\"Weekend\")\n",
    "        case _:\n",
    "            print(\"Invalid day\")"
   ]
  },
  {
   "cell_type": "markdown",
   "id": "cf2de5c9-f876-4ffa-83e2-0c8737c5a581",
   "metadata": {
    "editable": true,
    "slideshow": {
     "slide_type": ""
    },
    "tags": []
   },
   "source": [
    "__课后练习__: 设计一个程序使用`match`语句， 根据不同的[HTTP状态码](https://baike.baidu.com/item/HTTP%E7%8A%B6%E6%80%81%E7%A0%81/5053660?fr=ge_ala)来判断显示不同的提示语句，当状态码是404，显示\"not found\"; 当状态码是400，显示\"bad request\";当状态码是500, 显示\"Internal server error\";其他显示\"Something wrong with the service\""
   ]
  },
  {
   "cell_type": "markdown",
   "id": "5adc9f5c-79d8-427f-8364-24f29a8d4cfe",
   "metadata": {},
   "source": [
    "## 逻辑条件判断\n",
    "通过判断条件的组合，`if`语句可以完成多个变量的同时判断。"
   ]
  },
  {
   "cell_type": "code",
   "execution_count": 10,
   "id": "9c9edcd9-931f-436b-b1a5-6292b4f23ecc",
   "metadata": {},
   "outputs": [
    {
     "name": "stdout",
     "output_type": "stream",
     "text": [
      "成年女性\n"
     ]
    }
   ],
   "source": [
    "age = 18\n",
    "sex = \"F\"\n",
    "if age >= 18 and sex == \"F\":\n",
    "    print(\"成年女性\")"
   ]
  },
  {
   "cell_type": "markdown",
   "id": "b35291cb-6463-4c11-8f60-94b6010ba5ce",
   "metadata": {},
   "source": [
    "## 三元运算符\n",
    "简单的逻辑判断可以通过简单的三元运算符来实现。"
   ]
  },
  {
   "cell_type": "code",
   "execution_count": 11,
   "id": "fa45605e-1a40-4c5a-8afe-405c90b1eed8",
   "metadata": {},
   "outputs": [
    {
     "data": {
      "text/plain": [
       "'奇数'"
      ]
     },
     "execution_count": 11,
     "metadata": {},
     "output_type": "execute_result"
    }
   ],
   "source": [
    "x = 3242389\n",
    "\"偶数\" if x % 2 == 0 else \"奇数\""
   ]
  },
  {
   "cell_type": "code",
   "execution_count": 12,
   "id": "55565190-033b-43bb-ad6b-908773766428",
   "metadata": {},
   "outputs": [
    {
     "data": {
      "text/plain": [
       "3242389"
      ]
     },
     "execution_count": 12,
     "metadata": {},
     "output_type": "execute_result"
    }
   ],
   "source": [
    "x"
   ]
  },
  {
   "cell_type": "markdown",
   "id": "4ae8d9ea-565e-4787-a0f7-8260b08e6d85",
   "metadata": {},
   "source": [
    "__课后练习__: 改造第一个例子，采用三元运算符判断温度是否超过38."
   ]
  },
  {
   "cell_type": "markdown",
   "id": "6e16a09d-fa2c-4541-bfe7-09ee775a8d8f",
   "metadata": {},
   "source": [
    "## 循环语句控制\n",
    "当我们需要对于一系列的输入进行批量处理的时候，需要通过循环语句来控制，最常用的`for`循环和`while`循环。"
   ]
  },
  {
   "cell_type": "markdown",
   "id": "74a1fa3e-fa56-4387-bf00-b2b11c0aed0e",
   "metadata": {},
   "source": [
    "## `for`循环\n",
    "一般`for`循环跟`range`函数配合使用，`range(start, stop)`函数会返回从`start`到`stop`范围内的一系列数字，当没有提供`start`值时，默认为0， 可以从以下函数解释中查找这个函数的详细解释。[1, 6)"
   ]
  },
  {
   "cell_type": "code",
   "execution_count": 14,
   "id": "727a7acc-b55a-47b3-84c6-3423780c9572",
   "metadata": {},
   "outputs": [
    {
     "data": {
      "text/plain": [
       "\u001b[0;31mInit signature:\u001b[0m \u001b[0mrange\u001b[0m\u001b[0;34m(\u001b[0m\u001b[0mself\u001b[0m\u001b[0;34m,\u001b[0m \u001b[0;34m/\u001b[0m\u001b[0;34m,\u001b[0m \u001b[0;34m*\u001b[0m\u001b[0margs\u001b[0m\u001b[0;34m,\u001b[0m \u001b[0;34m**\u001b[0m\u001b[0mkwargs\u001b[0m\u001b[0;34m)\u001b[0m\u001b[0;34m\u001b[0m\u001b[0;34m\u001b[0m\u001b[0m\n",
       "\u001b[0;31mDocstring:\u001b[0m     \n",
       "range(stop) -> range object\n",
       "range(start, stop[, step]) -> range object\n",
       "\n",
       "Return an object that produces a sequence of integers from start (inclusive)\n",
       "to stop (exclusive) by step.  range(i, j) produces i, i+1, i+2, ..., j-1.\n",
       "start defaults to 0, and stop is omitted!  range(4) produces 0, 1, 2, 3.\n",
       "These are exactly the valid indices for a list of 4 elements.\n",
       "When step is given, it specifies the increment (or decrement).\n",
       "\u001b[0;31mType:\u001b[0m           type\n",
       "\u001b[0;31mSubclasses:\u001b[0m     "
      ]
     },
     "metadata": {},
     "output_type": "display_data"
    }
   ],
   "source": [
    "?range"
   ]
  },
  {
   "cell_type": "code",
   "execution_count": 21,
   "id": "3cd770d0-62b7-43e0-ad8b-2ac8e22f3008",
   "metadata": {},
   "outputs": [
    {
     "name": "stdout",
     "output_type": "stream",
     "text": [
      "*\n",
      "**\n",
      "***\n",
      "****\n",
      "*****\n"
     ]
    }
   ],
   "source": [
    "for i in range(1, 6):\n",
    "    print( '*' * i)"
   ]
  },
  {
   "cell_type": "code",
   "execution_count": 22,
   "id": "94666c92-e0c4-4f0b-a5c5-f3bcf1a42087",
   "metadata": {},
   "outputs": [
    {
     "data": {
      "text/plain": [
       "\u001b[0;31mInit signature:\u001b[0m \u001b[0menumerate\u001b[0m\u001b[0;34m(\u001b[0m\u001b[0miterable\u001b[0m\u001b[0;34m,\u001b[0m \u001b[0mstart\u001b[0m\u001b[0;34m=\u001b[0m\u001b[0;36m0\u001b[0m\u001b[0;34m)\u001b[0m\u001b[0;34m\u001b[0m\u001b[0;34m\u001b[0m\u001b[0m\n",
       "\u001b[0;31mDocstring:\u001b[0m     \n",
       "Return an enumerate object.\n",
       "\n",
       "  iterable\n",
       "    an object supporting iteration\n",
       "\n",
       "The enumerate object yields pairs containing a count (from start, which\n",
       "defaults to zero) and a value yielded by the iterable argument.\n",
       "\n",
       "enumerate is useful for obtaining an indexed list:\n",
       "    (0, seq[0]), (1, seq[1]), (2, seq[2]), ...\n",
       "\u001b[0;31mType:\u001b[0m           type\n",
       "\u001b[0;31mSubclasses:\u001b[0m     "
      ]
     },
     "metadata": {},
     "output_type": "display_data"
    }
   ],
   "source": [
    "?enumerate"
   ]
  },
  {
   "cell_type": "markdown",
   "id": "a1cb455a-e2fa-4d2d-9631-bb2155b99480",
   "metadata": {},
   "source": [
    "也可以通过枚举函数`enumerate()`来实现。"
   ]
  },
  {
   "cell_type": "code",
   "execution_count": 24,
   "id": "d6eb1ef6-c30e-41ff-ba00-601e3802a8e4",
   "metadata": {},
   "outputs": [
    {
     "name": "stdout",
     "output_type": "stream",
     "text": [
      "0.苹果\n",
      "1.香蕉\n",
      "2.梨子\n"
     ]
    }
   ],
   "source": [
    "fruits = ['苹果', '香蕉', '梨子']\n",
    "for index, fruit in enumerate(fruits):\n",
    "    print(f\"{index}.{fruit}\")"
   ]
  },
  {
   "cell_type": "code",
   "execution_count": 26,
   "id": "18411e3d-6995-47e4-9346-de97a75ed605",
   "metadata": {},
   "outputs": [
    {
     "data": {
      "text/plain": [
       "'香蕉'"
      ]
     },
     "execution_count": 26,
     "metadata": {},
     "output_type": "execute_result"
    }
   ],
   "source": [
    "fruits[1]"
   ]
  },
  {
   "cell_type": "markdown",
   "id": "ea132248-8539-4e0b-a699-8c5a0f0db5ff",
   "metadata": {},
   "source": [
    "__课后练习__  ：利用`for`循环语句打印9*9乘法表。"
   ]
  },
  {
   "cell_type": "markdown",
   "id": "af0634bc-66d3-484e-8c7c-1b55bf29c3c3",
   "metadata": {},
   "source": [
    "## 多重循环\n",
    "在有些问题中，需要循环的嵌套来完成某些任务。"
   ]
  },
  {
   "cell_type": "code",
   "execution_count": 32,
   "id": "7f7acdd8-fe9b-4f4f-b70f-ffd625d6fd91",
   "metadata": {},
   "outputs": [
    {
     "name": "stdout",
     "output_type": "stream",
     "text": [
      "1*1 = 1 1*2 = 2 1*3 = 3 1*4 = 4 1*5 = 5  \n",
      "2*1 = 2 2*2 = 4 2*3 = 6 2*4 = 8 2*5 = 10  \n",
      "3*1 = 3 3*2 = 6 3*3 = 9 3*4 = 12 3*5 = 15  \n",
      "4*1 = 4 4*2 = 8 4*3 = 12 4*4 = 16 4*5 = 20  \n",
      "5*1 = 5 5*2 = 10 5*3 = 15 5*4 = 20 5*5 = 25  \n"
     ]
    }
   ],
   "source": [
    "for i in range(1, 6):\n",
    "    for j in range(1, 6):\n",
    "        print(f\"{i}*{j} = {i*j} \", end=\"\")\n",
    "    print(\" \") "
   ]
  },
  {
   "cell_type": "markdown",
   "id": "b7d43b5e-22b2-4759-aef3-760c0d3e2f0f",
   "metadata": {},
   "source": [
    "## `break`语句\n",
    "如果在循环中，遇到满足某些条件需要跳出整个循环，`break`语句就可以发挥作用了。它可以用于跳出最内层的循环。"
   ]
  },
  {
   "cell_type": "code",
   "execution_count": 33,
   "id": "aae44394-e3cf-4389-a016-dc84b865b116",
   "metadata": {},
   "outputs": [
    {
     "name": "stdout",
     "output_type": "stream",
     "text": [
      "0\n",
      "1\n",
      "2\n",
      "3\n",
      "4\n"
     ]
    }
   ],
   "source": [
    "for i in range(10):\n",
    "    if i == 5:\n",
    "        break\n",
    "    print(i)"
   ]
  },
  {
   "cell_type": "markdown",
   "id": "40c55f82-73d6-45ed-9309-82b8b5c70aec",
   "metadata": {},
   "source": [
    "在上面的循环中，原本是打印0到9的数字，但是`if`语句判断当前值是否是5，通过`break`推出当前循环，因此打印了从0到4的数字 "
   ]
  },
  {
   "cell_type": "code",
   "execution_count": 35,
   "id": "4f986d45-9f1b-46fd-bc0c-8e1e7b0bb6d7",
   "metadata": {},
   "outputs": [
    {
     "name": "stdout",
     "output_type": "stream",
     "text": [
      "0 + 0\n",
      "0 + 1\n",
      "0 + 2\n",
      "0 + 3\n",
      "0 + 4\n",
      "0 + 5\n",
      "0 + 6\n",
      "0 + 7\n",
      "0 + 8\n",
      "0 + 9\n",
      "1 + 0\n",
      "1 + 1\n",
      "1 + 2\n",
      "1 + 3\n",
      "1 + 4\n",
      "1 + 5\n",
      "1 + 6\n",
      "1 + 7\n",
      "1 + 8\n",
      "1 + 9\n",
      "2 + 0\n",
      "2 + 1\n",
      "2 + 2\n",
      "2 + 3\n",
      "2 + 4\n",
      "2 + 5\n",
      "2 + 6\n",
      "2 + 7\n",
      "2 + 8\n",
      "3 + 0\n",
      "3 + 1\n",
      "3 + 2\n",
      "3 + 3\n",
      "3 + 4\n",
      "3 + 5\n",
      "3 + 6\n",
      "3 + 7\n",
      "4 + 0\n",
      "4 + 1\n",
      "4 + 2\n",
      "4 + 3\n",
      "4 + 4\n",
      "4 + 5\n",
      "4 + 6\n",
      "5 + 0\n",
      "5 + 1\n",
      "5 + 2\n",
      "5 + 3\n",
      "5 + 4\n",
      "5 + 5\n",
      "6 + 0\n",
      "6 + 1\n",
      "6 + 2\n",
      "6 + 3\n",
      "6 + 4\n",
      "7 + 0\n",
      "7 + 1\n",
      "7 + 2\n",
      "7 + 3\n",
      "8 + 0\n",
      "8 + 1\n",
      "8 + 2\n",
      "9 + 0\n",
      "9 + 1\n"
     ]
    }
   ],
   "source": [
    "for i in range(10):\n",
    "    for j in range(10):\n",
    "        if i + j > 10:\n",
    "            break\n",
    "        print(f\"{i} + {j}\")"
   ]
  },
  {
   "cell_type": "markdown",
   "id": "38433c37-7244-4f22-aa7b-078800c757fa",
   "metadata": {},
   "source": [
    "## `continue`语句\n",
    "如果在循环中，遇到满足某些条件需要跳出当前循环，采用`continue`语句可以当前目标。同样的，`continue`也是用于跳出最内层的循环。"
   ]
  },
  {
   "cell_type": "code",
   "execution_count": 36,
   "id": "351f4859-d041-4ab8-afdf-90b214b89322",
   "metadata": {},
   "outputs": [
    {
     "name": "stdout",
     "output_type": "stream",
     "text": [
      "0\n",
      "1\n",
      "2\n",
      "3\n",
      "4\n",
      "6\n",
      "7\n",
      "8\n",
      "9\n"
     ]
    }
   ],
   "source": [
    "for i in range(10):\n",
    "    if i == 5:\n",
    "        continue\n",
    "    print(i)"
   ]
  },
  {
   "cell_type": "markdown",
   "id": "7889b24d-0aed-43ae-9605-17b4bab20ec8",
   "metadata": {},
   "source": [
    "将前面例子中的`break`替换为`continue`，我们可以看到当`i`值为5时，跳过了打印的操作直接进入下一个循环。"
   ]
  },
  {
   "cell_type": "markdown",
   "id": "d3858be5-4301-4a9e-869c-214a4678c367",
   "metadata": {},
   "source": [
    "## 与`else`结合的循环语句\n",
    "在Python中，循环语句有一个特殊的`else`语句，当循环正常执行完以后会执行`else`语句。"
   ]
  },
  {
   "cell_type": "code",
   "execution_count": 37,
   "id": "8e5ec392-bcfc-47c0-b255-3f07e193097e",
   "metadata": {},
   "outputs": [
    {
     "name": "stdout",
     "output_type": "stream",
     "text": [
      "0\n",
      "1\n",
      "2\n",
      "3\n",
      "4\n",
      "循环正常结束。\n"
     ]
    }
   ],
   "source": [
    "for i in range(5):\n",
    "    print(i)\n",
    "else:\n",
    "    print(\"循环正常结束。\")"
   ]
  },
  {
   "cell_type": "code",
   "execution_count": 38,
   "id": "828f9b24-aa91-4e92-aebf-fc4d922bc238",
   "metadata": {},
   "outputs": [
    {
     "name": "stdout",
     "output_type": "stream",
     "text": [
      "0\n",
      "1\n",
      "2\n"
     ]
    }
   ],
   "source": [
    "for i in range(5):\n",
    "    if i == 3:\n",
    "        break\n",
    "    print(i)\n",
    "else:\n",
    "    print(\"This won't be printed\")"
   ]
  },
  {
   "cell_type": "markdown",
   "id": "632c7259-e620-4fc2-8747-00af34f61ba7",
   "metadata": {},
   "source": [
    "将上个例子的`break`改成了`continue`，循环可以正常结束，`else`后的逻辑可以正常执行"
   ]
  },
  {
   "cell_type": "code",
   "execution_count": 39,
   "id": "e11622c4-5acd-4283-ab0c-66470dd5e566",
   "metadata": {},
   "outputs": [
    {
     "name": "stdout",
     "output_type": "stream",
     "text": [
      "0\n",
      "1\n",
      "2\n",
      "4\n",
      "This won't be printed\n"
     ]
    }
   ],
   "source": [
    "for i in range(5):\n",
    "    if i == 3:\n",
    "        continue\n",
    "    print(i)\n",
    "else:\n",
    "    print(\"This won't be printed\")"
   ]
  },
  {
   "cell_type": "markdown",
   "id": "1a7b2dca-d169-477c-8840-6abeb418132b",
   "metadata": {},
   "source": [
    "__课后练习__ :设计一个猜数字的游戏，一共可以猜五次，如果猜的数字比实际数字大则提示用户你猜的数字太大了，如果猜的数字比实际数字小则提示用户你猜的数字太小了，如果猜中了则游戏退出提示用户恭喜你猜对了。如果五次都没有猜中则打印游戏结束你没有猜对。"
   ]
  },
  {
   "cell_type": "markdown",
   "id": "7dd9ccfb-fe14-4850-90e3-628e44f3ba41",
   "metadata": {},
   "source": [
    "## `while`循环\n",
    "类似于`for`循环，`while`循环是另一种常见的循环控制语句。"
   ]
  },
  {
   "cell_type": "code",
   "execution_count": 40,
   "id": "73db6738-e855-4e06-a62e-4bf5ed9a3f8f",
   "metadata": {},
   "outputs": [
    {
     "name": "stdout",
     "output_type": "stream",
     "text": [
      "5\n",
      "4\n",
      "3\n",
      "2\n",
      "1\n",
      "时间到!\n"
     ]
    }
   ],
   "source": [
    "import time\n",
    "\n",
    "seconds = 5\n",
    "while seconds > 0:\n",
    "    print(seconds)\n",
    "    time.sleep(1)\n",
    "    seconds -= 1\n",
    "print(\"时间到!\")"
   ]
  },
  {
   "cell_type": "markdown",
   "id": "8da3ee07-1fb6-4452-ac19-121f36a68fbc",
   "metadata": {},
   "source": [
    "与`for`循环一样，`while`循环可以结合`break`和`continue`一起使用。"
   ]
  },
  {
   "cell_type": "code",
   "execution_count": 41,
   "id": "697d2043-bc19-4e77-8ce9-1a1b3bd0639d",
   "metadata": {},
   "outputs": [
    {
     "name": "stdout",
     "output_type": "stream",
     "text": [
      "1 2 4 5 7 8 10 11 13 14 16 17 19 20 22 23 25 26 28 29 31 32 34 35 37 38 40 41 43 44 46 47 49 50 \n",
      "结束操作\n"
     ]
    }
   ],
   "source": [
    "num = 0\n",
    "while True:\n",
    "    num += 1\n",
    "    if num % 3 == 0:\n",
    "        continue\n",
    "    if num > 50:\n",
    "        break\n",
    "    print(num, end=\" \")\n",
    "\n",
    "print(\"\\n结束操作\")\n"
   ]
  },
  {
   "cell_type": "code",
   "execution_count": null,
   "id": "bad8ff27-394f-4e26-89c2-dc2e9139a83d",
   "metadata": {},
   "outputs": [],
   "source": []
  }
 ],
 "metadata": {
  "kernelspec": {
   "display_name": "Python 3 (ipykernel)",
   "language": "python",
   "name": "python3"
  },
  "language_info": {
   "codemirror_mode": {
    "name": "ipython",
    "version": 3
   },
   "file_extension": ".py",
   "mimetype": "text/x-python",
   "name": "python",
   "nbconvert_exporter": "python",
   "pygments_lexer": "ipython3",
   "version": "3.11.7"
  }
 },
 "nbformat": 4,
 "nbformat_minor": 5
}
