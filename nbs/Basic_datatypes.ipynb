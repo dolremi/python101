{
 "cells": [
  {
   "cell_type": "markdown",
   "id": "63ad9945-824f-4ac0-b47d-7e5468594e06",
   "metadata": {},
   "source": [
    "# 基本数据类型\n",
    "下图中罗列了Python中所有基本的数据类型\n",
    "| 数据类型 | 描述 | 是否可变 | 示例 |\n",
    "|---------|------|---------|------|\n",
    "| 整数 (int) | 表示整数 | 否 | `42`, `-10`, `0` |\n",
    "| 浮点数 (float) | 表示小数 | 否 | `3.14`, `-0.001`, `2.0e-3` |\n",
    "| 布尔 (bool) | 表示真或假 | 否 | `True`, `False` |\n",
    "| 字符串 (str) | 表示文本 | 否 | `\"Hello\"`, `'Python'` |\n",
    "| 复数 (complex) | 表示复数 | 否 | `3+4j`, `2-1j` |\n",
    "| NoneType | 表示空值 | 不适用 | `None` |"
   ]
  },
  {
   "cell_type": "markdown",
   "id": "387d462e-8984-40d8-bf1e-599afd9123b6",
   "metadata": {
    "editable": true,
    "slideshow": {
     "slide_type": ""
    },
    "tags": []
   },
   "source": [
    "## 整数 (int)\n",
    "\n",
    "* 用于表示正整数、负整数和零\n",
    "* Python 3中的整数理论上可以是任意大小\n",
    "* 支持各种算术运算"
   ]
  },
  {
   "cell_type": "code",
   "execution_count": 3,
   "id": "a35791b5-f1cd-4eb7-822b-1310096d9639",
   "metadata": {},
   "outputs": [
    {
     "data": {
      "text/plain": [
       "3"
      ]
     },
     "execution_count": 3,
     "metadata": {},
     "output_type": "execute_result"
    }
   ],
   "source": [
    "1+2"
   ]
  },
  {
   "cell_type": "code",
   "execution_count": 4,
   "id": "53f51c20-1538-43d3-82df-b213562262c8",
   "metadata": {},
   "outputs": [],
   "source": [
    "x = 2\n",
    "y = -56\n",
    "big_num = 44823098509234"
   ]
  },
  {
   "cell_type": "code",
   "execution_count": 5,
   "id": "655d976c-aab6-4511-963a-4b3692a08b84",
   "metadata": {},
   "outputs": [
    {
     "name": "stdout",
     "output_type": "stream",
     "text": [
      "44823098509234\n"
     ]
    }
   ],
   "source": [
    "print(big_num)"
   ]
  },
  {
   "cell_type": "markdown",
   "id": "f32c3aed-4973-4dbd-9649-84d0de9e2f0b",
   "metadata": {},
   "source": [
    "## 浮点数(Float)\n",
    "* 用于表示小数\n",
    "* 使用IEEE 754标准的双精度浮点数表示\n",
    "* 可能存在精度问题，不适合精确的金融计算"
   ]
  },
  {
   "cell_type": "code",
   "execution_count": 7,
   "id": "37b8abcd-8ed1-4209-881e-4322d1b87a23",
   "metadata": {},
   "outputs": [],
   "source": [
    "pi = 3.1415926"
   ]
  },
  {
   "cell_type": "code",
   "execution_count": 8,
   "id": "29a6a80a-c6dc-49ec-a973-6c5fd4747dcc",
   "metadata": {},
   "outputs": [
    {
     "name": "stdout",
     "output_type": "stream",
     "text": [
      "0.1 + 0.2 = 0.30000000000000004\n",
      "结果是否等于0.3：False\n",
      "结果的更多小数位：0.30000000000000004\n"
     ]
    }
   ],
   "source": [
    "result = 0.1 + 0.2\n",
    "\n",
    "# 打印结果\n",
    "print(f\"0.1 + 0.2 = {result}\")\n",
    "\n",
    "# 检查是否等于0.3\n",
    "print(f\"结果是否等于0.3：{result == 0.3}\")\n",
    "\n",
    "# 查看更多小数位\n",
    "print(f\"结果的更多小数位：{result:.17f}\")"
   ]
  },
  {
   "cell_type": "markdown",
   "id": "9087c6d6-ee13-43ae-b35d-bf1eb87cda9a",
   "metadata": {},
   "source": [
    "## 布尔值(bool)\n",
    "* 只有两个可能的值：True 和 False\n",
    "* 用于逻辑运算和控制流\n",
    "* 实际上是 int 的子类，True 等同于 1，False 等同于 0\n"
   ]
  },
  {
   "cell_type": "code",
   "execution_count": 10,
   "id": "cd8dc054-85a9-4f54-8551-b5c0ac89bfce",
   "metadata": {},
   "outputs": [],
   "source": [
    "is_python_fun = True\n",
    "is_coding_hard = False"
   ]
  },
  {
   "cell_type": "code",
   "execution_count": 11,
   "id": "ee255ce4-fdf9-455b-b513-f208caa5ae5c",
   "metadata": {},
   "outputs": [
    {
     "name": "stdout",
     "output_type": "stream",
     "text": [
      "<class 'bool'>\n",
      "<class 'bool'>\n"
     ]
    }
   ],
   "source": [
    "print(type(True))   # 输出: <class 'bool'>\n",
    "print(type(False))  # 输出: <class 'bool'>"
   ]
  },
  {
   "cell_type": "code",
   "execution_count": 12,
   "id": "bf6b01ba-2295-45d0-8d11-497af2e9618a",
   "metadata": {},
   "outputs": [
    {
     "name": "stdout",
     "output_type": "stream",
     "text": [
      "True\n"
     ]
    }
   ],
   "source": [
    "print(issubclass(bool, int))  # 输出: True"
   ]
  },
  {
   "cell_type": "code",
   "execution_count": 13,
   "id": "badbe0d2-b73e-47ec-b476-320eb9004e6d",
   "metadata": {},
   "outputs": [
    {
     "name": "stdout",
     "output_type": "stream",
     "text": [
      "2\n",
      "1\n",
      "2\n",
      "0\n"
     ]
    }
   ],
   "source": [
    "print(True + 1)   # 输出: 2\n",
    "print(False + 1)  # 输出: 1\n",
    "print(True * 2)   # 输出: 2\n",
    "\"\"\" 这是一段多行\n",
    "    注释\"\"\"\n",
    "print(False * 2)  # 输出: 0"
   ]
  },
  {
   "cell_type": "markdown",
   "id": "81d2d9bb-c4ff-4cd1-be45-d9bbb2bf65a6",
   "metadata": {},
   "source": [
    "## 复数(Complex)\n",
    "* 用于表示复数\n",
    "* 由实部和虚部组成\n",
    "* 在科学计算和工程领域常用"
   ]
  },
  {
   "cell_type": "code",
   "execution_count": 15,
   "id": "e1ba2dac-2eab-485c-83c1-549ff350fd95",
   "metadata": {},
   "outputs": [],
   "source": [
    "z1 = 3 + 4j\n",
    "z2 = complex(3, 4) "
   ]
  },
  {
   "cell_type": "code",
   "execution_count": 16,
   "id": "51b0999b-4550-4fbe-95e4-8f8938665c57",
   "metadata": {},
   "outputs": [
    {
     "name": "stdout",
     "output_type": "stream",
     "text": [
      "(3+4j)\n"
     ]
    }
   ],
   "source": [
    "print(z1)"
   ]
  },
  {
   "cell_type": "code",
   "execution_count": 17,
   "id": "78611bc5-df72-4de5-a314-2634c9d1e089",
   "metadata": {},
   "outputs": [
    {
     "name": "stdout",
     "output_type": "stream",
     "text": [
      "(3+4j)\n"
     ]
    }
   ],
   "source": [
    "print(z2)"
   ]
  },
  {
   "cell_type": "markdown",
   "id": "2a863c0d-ef83-4ba7-9c21-b55297fca25d",
   "metadata": {},
   "source": [
    "## NoneType\n",
    "* 只有一个值：None\n",
    "* 用于表示\"无\"或\"空\"\n",
    "* 常用于初始化变量或表示函数没有返回值"
   ]
  },
  {
   "cell_type": "code",
   "execution_count": 19,
   "id": "db8d19d9-3af1-459e-b830-7798999d0c6d",
   "metadata": {},
   "outputs": [],
   "source": [
    "result = None"
   ]
  },
  {
   "cell_type": "code",
   "execution_count": 20,
   "id": "82085587-7130-429c-956f-c54cdaca71e2",
   "metadata": {},
   "outputs": [],
   "source": [
    "def sample_data(data=None):\n",
    "    if data is None:\n",
    "        return None\n",
    "    else:\n",
    "        return 3"
   ]
  },
  {
   "cell_type": "code",
   "execution_count": 21,
   "id": "919001e6-c535-457d-9c86-0404e4437904",
   "metadata": {},
   "outputs": [
    {
     "name": "stdout",
     "output_type": "stream",
     "text": [
      "None\n"
     ]
    }
   ],
   "source": [
    "print(sample_data())"
   ]
  },
  {
   "cell_type": "code",
   "execution_count": 22,
   "id": "d3385347-9ced-4870-8bf2-45ba5b36c4a9",
   "metadata": {},
   "outputs": [
    {
     "name": "stdout",
     "output_type": "stream",
     "text": [
      "3\n"
     ]
    }
   ],
   "source": [
    "print(sample_data(32))"
   ]
  },
  {
   "cell_type": "markdown",
   "id": "b2405b7b-0538-4617-9f99-8c69525b1606",
   "metadata": {},
   "source": [
    "## 字符串(str)\n",
    "字符串作为Python中文本处理的基本数据格式，拥有丰富的操作方法。字符串是不可变数据，因此每次操作都会形成新的字符串。"
   ]
  },
  {
   "cell_type": "code",
   "execution_count": 4,
   "id": "51e74e7a-66c9-405a-818e-651c94a4fa8a",
   "metadata": {},
   "outputs": [
    {
     "name": "stdout",
     "output_type": "stream",
     "text": [
      "hello的id是2003406225104\n",
      "world的id是2003479961760\n",
      "hello world的id是2003480251952\n"
     ]
    }
   ],
   "source": [
    "hello = \"hello\"\n",
    "world = \"world\"\n",
    "combined = hello + \" \" + world\n",
    "print(f\"{hello}的id是{id(hello)}\")\n",
    "print(f\"{world}的id是{id(world)}\")\n",
    "print(f\"{combined}的id是{id(combined)}\")"
   ]
  },
  {
   "cell_type": "code",
   "execution_count": 8,
   "id": "416adac8-7440-4376-9efc-507d10ed923a",
   "metadata": {},
   "outputs": [],
   "source": [
    "multi = ''' 多行 输入\n",
    " 的方法\n",
    " 测试'''"
   ]
  },
  {
   "cell_type": "code",
   "execution_count": 10,
   "id": "9be0859f-b4ba-4f7f-a408-21a28a52b496",
   "metadata": {},
   "outputs": [
    {
     "name": "stdout",
     "output_type": "stream",
     "text": [
      "hello 的id是2003477023216\n"
     ]
    }
   ],
   "source": [
    "hello_space = hello + \" \"\n",
    "print(f\"{hello_space}的id是{id(hello_space)}\")"
   ]
  },
  {
   "cell_type": "markdown",
   "id": "94f74f94-861e-405e-bd77-3f3bf7281982",
   "metadata": {},
   "source": [
    "### 字符串合并"
   ]
  },
  {
   "cell_type": "code",
   "execution_count": 12,
   "id": "8d105dc9-c3ca-49eb-a36a-7c73f8464fce",
   "metadata": {},
   "outputs": [
    {
     "name": "stdout",
     "output_type": "stream",
     "text": [
      "indroduce me\n"
     ]
    }
   ],
   "source": [
    "introduce = \"indroduce\" + \" me\"\n",
    "print(introduce)"
   ]
  },
  {
   "cell_type": "code",
   "execution_count": 16,
   "id": "d7398786-107d-48e4-ab84-ad1e606e14de",
   "metadata": {},
   "outputs": [
    {
     "name": "stdout",
     "output_type": "stream",
     "text": [
      "Hello, World, c++, PYTHON\n"
     ]
    }
   ],
   "source": [
    "test = [\"Hello\", \"World\",\"c++\", \"PYTHON\"]\n",
    "sentence = \", \".join(test)\n",
    "print(sentence)"
   ]
  },
  {
   "cell_type": "markdown",
   "id": "bdd4b522-dd14-4d8b-8a1a-989084f96f60",
   "metadata": {},
   "source": [
    "### 重复字符串"
   ]
  },
  {
   "cell_type": "code",
   "execution_count": 20,
   "id": "f0ac6e3b-9fce-4e8c-9541-2941e5d2e2f1",
   "metadata": {},
   "outputs": [
    {
     "name": "stdout",
     "output_type": "stream",
     "text": [
      "NaNaNaNaNaNa Batman! Batman! Batman! Batman! Batman! Batman! Batman!\n"
     ]
    }
   ],
   "source": [
    "repeat = \"Na\" * 6 + \" Batman!\" * 7\n",
    "print(repeat)  "
   ]
  },
  {
   "cell_type": "markdown",
   "id": "35299a4c-9a9b-4d7f-be38-07d8990866ba",
   "metadata": {},
   "source": [
    "### 索引与切片"
   ]
  },
  {
   "cell_type": "code",
   "execution_count": 22,
   "id": "6f14e14f-d07f-468e-af9e-1cf651fdeb9d",
   "metadata": {},
   "outputs": [
    {
     "name": "stdout",
     "output_type": "stream",
     "text": [
      "P\n",
      "yth\n",
      "nohtyP\n"
     ]
    }
   ],
   "source": [
    "text = \"Python\" #[开始：结束：步数]\n",
    "print(text[0])    # 输出: P\n",
    "print(text[1:4])  # 输出: yth 转化为[1, 4)\n",
    "print(text[::-1]) # 输出: nohtyP (反转字符串)"
   ]
  },
  {
   "cell_type": "code",
   "execution_count": 24,
   "id": "fea879f9-fb43-4733-b151-1394346cdd06",
   "metadata": {},
   "outputs": [
    {
     "name": "stdout",
     "output_type": "stream",
     "text": [
      "Error: 'str' object does not support item assignment\n"
     ]
    }
   ],
   "source": [
    "#尝试修改字符串某一位\n",
    "greeting = \"Hello\"\n",
    "try:\n",
    "    greeting[0] = 'h'\n",
    "except TypeError as e:\n",
    "    print(f\"Error: {e}\")"
   ]
  },
  {
   "cell_type": "markdown",
   "id": "bbedf24f-d577-4582-a5eb-ba6b03e2a0f3",
   "metadata": {},
   "source": [
    "### 查找与切换"
   ]
  },
  {
   "cell_type": "code",
   "execution_count": 34,
   "id": "4fd36eb5-1925-4588-8510-81d840309ce4",
   "metadata": {},
   "outputs": [
    {
     "name": "stdout",
     "output_type": "stream",
     "text": [
      "4\n",
      "您好，这是Python课程。\n",
      "你好，这是Python课程。\n"
     ]
    }
   ],
   "source": [
    "sentence = \"你好，这是Python课程。\"\n",
    "print(sentence.find(\"是\")) \n",
    "new_sentence = sentence.replace(\"你\", \"您\")\n",
    "print(new_sentence)  \n",
    "print(sentence)"
   ]
  },
  {
   "cell_type": "markdown",
   "id": "3e1ec482-f1ca-42b1-b12c-509109ba0a24",
   "metadata": {},
   "source": [
    "### 字符串分割"
   ]
  },
  {
   "cell_type": "code",
   "execution_count": 40,
   "id": "8ebbbd2d-9685-4693-9042-ab0bb13380fd",
   "metadata": {},
   "outputs": [
    {
     "name": "stdout",
     "output_type": "stream",
     "text": [
      "['we', 'have', 'apple', 'banana', 'and', 'cherry.']\n",
      "这里一共有6个单词\n"
     ]
    }
   ],
   "source": [
    "txt = \"we have apple banana and cherry.\"\n",
    "fruits = txt.split(\" \")\n",
    "print(fruits) \n",
    "print(f\"这里一共有{len(fruits)}个单词\")"
   ]
  },
  {
   "cell_type": "markdown",
   "id": "2748c34f-6a2e-42b7-b80e-f6543f6c294d",
   "metadata": {},
   "source": [
    "### 大小写切换"
   ]
  },
  {
   "cell_type": "code",
   "execution_count": 44,
   "id": "8450e9e5-1054-4dad-926e-6d7ce8fd3603",
   "metadata": {},
   "outputs": [
    {
     "name": "stdout",
     "output_type": "stream",
     "text": [
      "ARTIFICIAL INTELLIGENT IS FUN\n",
      "artificial intelligent is fun\n",
      "Artificial intelligent is fun\n"
     ]
    }
   ],
   "source": [
    "text = \"Artificial Intelligent is fun\"\n",
    "print(text.upper())      \n",
    "print(text.lower())     \n",
    "print(text.capitalize())"
   ]
  },
  {
   "cell_type": "markdown",
   "id": "3c91842d-350e-419a-9d6a-683cdad981d0",
   "metadata": {},
   "source": [
    "### 去除空格"
   ]
  },
  {
   "cell_type": "code",
   "execution_count": 46,
   "id": "2e64a194-8023-4984-acdc-c8bc7880a597",
   "metadata": {},
   "outputs": [
    {
     "name": "stdout",
     "output_type": "stream",
     "text": [
      "Python\n"
     ]
    }
   ],
   "source": [
    "text = \"   Python   \"\n",
    "print(text.strip()) "
   ]
  },
  {
   "cell_type": "markdown",
   "id": "c70af971-21e5-4c4b-8533-970df660bd9d",
   "metadata": {},
   "source": [
    "### 字符串检查"
   ]
  },
  {
   "cell_type": "code",
   "execution_count": 50,
   "id": "db3de415-a8e9-4516-bb20-ec8835bd3467",
   "metadata": {},
   "outputs": [
    {
     "name": "stdout",
     "output_type": "stream",
     "text": [
      "True\n",
      "False\n"
     ]
    }
   ],
   "source": [
    "print(\"Python\".startswith(\"Py\"))  \n",
    "print(\"Oth\".isdigit())            "
   ]
  },
  {
   "cell_type": "code",
   "execution_count": 54,
   "id": "efafbbde-7f7f-467e-977a-53e16a5268ce",
   "metadata": {},
   "outputs": [
    {
     "name": "stdout",
     "output_type": "stream",
     "text": [
      "False\n"
     ]
    }
   ],
   "source": [
    "text = \"Hello, world\"\n",
    "print(text.endswith(\"word\"))"
   ]
  },
  {
   "cell_type": "code",
   "execution_count": 66,
   "id": "5c95a7af-6410-40bf-a8ce-d4c9a7c80e1f",
   "metadata": {},
   "outputs": [
    {
     "name": "stdout",
     "output_type": "stream",
     "text": [
      "True\n"
     ]
    }
   ],
   "source": [
    "text = \"abc\"\n",
    "print(text.isalpha())"
   ]
  },
  {
   "cell_type": "markdown",
   "id": "bc930f88-0108-487c-8265-7548adfd5dc4",
   "metadata": {},
   "source": [
    "### 字符串格式化\n",
    "Python的字符串格式化有这么几种："
   ]
  },
  {
   "cell_type": "markdown",
   "id": "2206e3e5-4a0c-4140-b520-88f7a91a3000",
   "metadata": {},
   "source": [
    "* %符号"
   ]
  },
  {
   "cell_type": "code",
   "execution_count": 58,
   "id": "b90296b0-2213-4285-b4a2-30059ebaabe8",
   "metadata": {},
   "outputs": [
    {
     "name": "stdout",
     "output_type": "stream",
     "text": [
      "My name is Tom and I am 22 years old.\n"
     ]
    }
   ],
   "source": [
    "name = \"Tom\"\n",
    "age = 22\n",
    "formatted = \"My name is %s and I am %d years old.\" %(name, age)\n",
    "print(formatted)"
   ]
  },
  {
   "cell_type": "markdown",
   "id": "ecea1b5b-4952-44a6-9b4f-9bc9392fed20",
   "metadata": {},
   "source": [
    "* `format()`方法"
   ]
  },
  {
   "cell_type": "code",
   "execution_count": 60,
   "id": "6ad331d1-847d-42b2-808f-040a73b82a21",
   "metadata": {},
   "outputs": [
    {
     "name": "stdout",
     "output_type": "stream",
     "text": [
      "My name is Alice and I'm 30 years old\n"
     ]
    }
   ],
   "source": [
    "# 使用 format() 方法\n",
    "name = \"Alice\"\n",
    "age = 30\n",
    "print(\"My name is {} and I'm {} years old\".format(name, age))"
   ]
  },
  {
   "cell_type": "markdown",
   "id": "4a40c9cb-a7f4-48c3-9ed1-4084a7b91d8c",
   "metadata": {},
   "source": [
    "* f-strings由Python 3.6引入的最便捷的字符串格式方法"
   ]
  },
  {
   "cell_type": "code",
   "execution_count": 53,
   "id": "ad6ba62e-d478-40ff-b554-029f76c92143",
   "metadata": {},
   "outputs": [
    {
     "name": "stdout",
     "output_type": "stream",
     "text": [
      "My name is Judy and I'm 40 years old from USA\n"
     ]
    }
   ],
   "source": [
    "name = \"Judy\"\n",
    "age = 40\n",
    "country = \"USA\"\n",
    "print(f\"My name is {name} and I'm {age} years old from {country}\")"
   ]
  },
  {
   "cell_type": "code",
   "execution_count": 62,
   "id": "ee67e87b-176b-49a9-9c17-5b96fbc9a210",
   "metadata": {},
   "outputs": [
    {
     "ename": "NameError",
     "evalue": "name 'variable' is not defined",
     "output_type": "error",
     "traceback": [
      "\u001b[1;31m---------------------------------------------------------------------------\u001b[0m",
      "\u001b[1;31mNameError\u001b[0m                                 Traceback (most recent call last)",
      "Cell \u001b[1;32mIn[62], line 1\u001b[0m\n\u001b[1;32m----> 1\u001b[0m \u001b[38;5;28mprint\u001b[39m(\u001b[38;5;124mf\u001b[39m\u001b[38;5;124m\"\u001b[39m\u001b[38;5;124mThis is a new \u001b[39m\u001b[38;5;132;01m{\u001b[39;00mvariable\u001b[38;5;132;01m}\u001b[39;00m\u001b[38;5;124m\"\u001b[39m)\n",
      "\u001b[1;31mNameError\u001b[0m: name 'variable' is not defined"
     ]
    }
   ],
   "source": [
    "print(f\"This is a new {variable}\")"
   ]
  },
  {
   "cell_type": "code",
   "execution_count": 54,
   "id": "1d01e93a-6ea2-447e-8ad0-8a30ea021a60",
   "metadata": {},
   "outputs": [
    {
     "name": "stdout",
     "output_type": "stream",
     "text": [
      "Pi is 3.142\n"
     ]
    }
   ],
   "source": [
    "pi = 3.1415926\n",
    "print(f\"Pi is {pi:.3f}\")"
   ]
  },
  {
   "cell_type": "code",
   "execution_count": null,
   "id": "37e68b25-d49f-49b2-968d-513879aa4615",
   "metadata": {},
   "outputs": [],
   "source": []
  }
 ],
 "metadata": {
  "kernelspec": {
   "display_name": "Python 3 (ipykernel)",
   "language": "python",
   "name": "python3"
  },
  "language_info": {
   "codemirror_mode": {
    "name": "ipython",
    "version": 3
   },
   "file_extension": ".py",
   "mimetype": "text/x-python",
   "name": "python",
   "nbconvert_exporter": "python",
   "pygments_lexer": "ipython3",
   "version": "3.11.7"
  }
 },
 "nbformat": 4,
 "nbformat_minor": 5
}
