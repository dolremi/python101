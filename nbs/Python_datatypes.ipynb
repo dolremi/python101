{
 "cells": [
  {
   "cell_type": "markdown",
   "id": "63ad9945-824f-4ac0-b47d-7e5468594e06",
   "metadata": {},
   "source": [
    "# Python基本数据类型\n",
    "\n",
    "> 介绍Python中的基本数据类型和使用场景\n",
    "- order: 2"
   ]
  },
  {
   "cell_type": "markdown",
   "id": "ef94e286-ba2f-4b9e-ae58-228a6188ab17",
   "metadata": {},
   "source": [
    "在计算机世界，数据需要通过0和1来表示。而Python作为一种我们与计算机的交流语言，提供了一个基本数据类型的工具箱，每个基本数据类型就是一个个工具。掌握了这些数据类型，你就可以通过编程了指挥计算机为你服务了!"
   ]
  },
  {
   "cell_type": "markdown",
   "id": "2f0c7960-4cdc-4000-a7d8-9451e75d2b38",
   "metadata": {},
   "source": [
    "每种数据类型都有它的的特点和适用场景：\n",
    "\n",
    "1. 不同的数据类型占用不同的内存空间,这让计算机能更高效地运行\n",
    "2. 不同的数据类型支持不同的操作,比如数字可以做运算,字符串可以拼接\n",
    "3. 合适的数据类型让代码更清晰易懂,也更不容易出错"
   ]
  },
  {
   "cell_type": "markdown",
   "id": "81263eb9-407c-41cb-bd4f-c4b35e182add",
   "metadata": {},
   "source": [
    "Python的数据类型就像一个个特制的容器，每种特制容器都是为了存放特定类型的数据而设计。下面就让我们逐个了解每个容器吧:"
   ]
  },
  {
   "cell_type": "markdown",
   "id": "387d462e-8984-40d8-bf1e-599afd9123b6",
   "metadata": {
    "slideshow": {
     "slide_type": ""
    },
    "tags": []
   },
   "source": [
    "## 整数 (int)\n",
    "首先我们来看最熟悉的整数，在Python中我们可以用整数类型可以代表任何数学中的整数，这里注意Python中的整数是没有大小限制的哦。"
   ]
  },
  {
   "cell_type": "code",
   "execution_count": 1,
   "id": "53f51c20-1538-43d3-82df-b213562262c8",
   "metadata": {},
   "outputs": [],
   "source": [
    "x = 2\n",
    "y = -56\n",
    "big_num = 44823098509234"
   ]
  },
  {
   "cell_type": "markdown",
   "id": "4db2b289-d665-4fa6-afe8-a2ef012fc9e2",
   "metadata": {},
   "source": [
    "我们在数学中学到的各类算数运算都可以直接使用在整数上。"
   ]
  },
  {
   "cell_type": "code",
   "execution_count": 2,
   "id": "a35791b5-f1cd-4eb7-822b-1310096d9639",
   "metadata": {},
   "outputs": [
    {
     "data": {
      "text/plain": [
       "2"
      ]
     },
     "execution_count": 2,
     "metadata": {},
     "output_type": "execute_result"
    }
   ],
   "source": [
    "1+ 2 * 4 - 7"
   ]
  },
  {
   "cell_type": "markdown",
   "id": "0b9f9dac-3cfd-4609-8c79-f213b8f26e5b",
   "metadata": {},
   "source": [
    ":::{.callout-important}\n",
    "Python中整数可以无限大，其内部采用一种**变长数组**的存储方式，将一个大整数分割成了一个个*数字块*.\n",
    ":::"
   ]
  },
  {
   "cell_type": "code",
   "execution_count": 3,
   "id": "655d976c-aab6-4511-963a-4b3692a08b84",
   "metadata": {},
   "outputs": [
    {
     "name": "stdout",
     "output_type": "stream",
     "text": [
      "44823098509234\n"
     ]
    }
   ],
   "source": [
    "print(big_num)"
   ]
  },
  {
   "cell_type": "markdown",
   "id": "f32c3aed-4973-4dbd-9649-84d0de9e2f0b",
   "metadata": {},
   "source": [
    "## 浮点数(Float)\n",
    "当你需要的数字带有小数点，这时我们就需要浮点数(Float)这个专属容器了，例如下面这个例子："
   ]
  },
  {
   "cell_type": "code",
   "execution_count": 4,
   "id": "37b8abcd-8ed1-4209-881e-4322d1b87a23",
   "metadata": {},
   "outputs": [],
   "source": [
    "pi = 3.1415926"
   ]
  },
  {
   "cell_type": "markdown",
   "id": "d67e1804-7fed-4ba5-833e-02e3b38e3c3e",
   "metadata": {},
   "source": [
    "### 浮点数是怎么存储的呢?\n",
    "浮点数采用了IEEE754标准双精度标准，包含了三个关键部分。"
   ]
  },
  {
   "cell_type": "markdown",
   "id": "c1211f04-54d1-4dd2-89a0-4ebb91753f52",
   "metadata": {},
   "source": [
    "| 符号位(1位)|指数位(11位)| 尾数位(52位)\n",
    "|---------- |----------|------------|\n",
    "| +/-       |   2^指数  |  1. xxxxx  |"
   ]
  },
  {
   "cell_type": "markdown",
   "id": "c81fcb18-f424-408c-9f9b-c5c9775322f1",
   "metadata": {},
   "source": [
    "让我们通过一个形象的比喻来理解：\n",
    "\n",
    "* 符号位就像一个正负号开关（+ 或 -）\n",
    "* 指数位就像是科学计数法中的\"10的多少次方\"\n",
    "* 尾数位就像是具体的数字部分\n"
   ]
  },
  {
   "cell_type": "code",
   "execution_count": 5,
   "id": "3d2753bc-2dd0-4083-a416-8ecc5e75b093",
   "metadata": {},
   "outputs": [
    {
     "name": "stdout",
     "output_type": "stream",
     "text": [
      "符号位: 0\n",
      "指数位: 10000000000\n",
      "尾数位: 1001000111101011100001010001111010111000010100011111\n"
     ]
    }
   ],
   "source": [
    "import struct\n",
    "import binascii\n",
    "\n",
    "def float_to_binary(num):\n",
    "    # 将浮点数打包成二进制\n",
    "    packed = struct.pack('!d', num)\n",
    "    # 转换成十六进制查看\n",
    "    hex_str = binascii.hexlify(packed).decode('utf-8')\n",
    "    # 转换成二进制字符串\n",
    "    binary = bin(int(hex_str, 16))[2:].zfill(64)\n",
    "    return binary\n",
    "\n",
    "# 查看3.14的二进制表示\n",
    "binary = float_to_binary(3.14)\n",
    "print(f\"符号位: {binary[0]}\")\n",
    "print(f\"指数位: {binary[1:12]}\")\n",
    "print(f\"尾数位: {binary[12:]}\")"
   ]
  },
  {
   "cell_type": "markdown",
   "id": "6ca53f9f-277e-48ad-b472-f0411557e421",
   "metadata": {},
   "source": [
    "以上就是通过数字3.14作为例子展示浮点数的存储结构。"
   ]
  },
  {
   "cell_type": "markdown",
   "id": "8f17e66a-e4f9-401d-a8c0-7657ebd404ae",
   "metadata": {},
   "source": [
    "我们再来看看浮点数里面的一些特殊值吧"
   ]
  },
  {
   "cell_type": "code",
   "execution_count": 6,
   "id": "fcf895f9-20d1-4d90-a4a5-936d5daa040a",
   "metadata": {},
   "outputs": [
    {
     "name": "stdout",
     "output_type": "stream",
     "text": [
      "正无穷大是：inf\n",
      "负无穷大是：-inf\n",
      "非数字是：nan\n"
     ]
    }
   ],
   "source": [
    "inf = float('inf')\n",
    "print(f\"正无穷大是：{inf}\")\n",
    "ninf = float('-inf')\n",
    "print(f\"负无穷大是：{ninf}\")\n",
    "nan = float('nan') \n",
    "print(f\"非数字是：{nan}\") "
   ]
  },
  {
   "cell_type": "markdown",
   "id": "3186cca4-3464-47a1-a5d3-6f7792c12295",
   "metadata": {},
   "source": [
    ":::{.callout-warning}\n",
    "使用浮点数时候要特别小心精度问题。\n",
    ":::"
   ]
  },
  {
   "cell_type": "code",
   "execution_count": 7,
   "id": "29a6a80a-c6dc-49ec-a973-6c5fd4747dcc",
   "metadata": {},
   "outputs": [
    {
     "name": "stdout",
     "output_type": "stream",
     "text": [
      "0.1 + 0.2 = 0.30000000000000004\n",
      "结果是否等于0.3：False\n",
      "结果的更多小数位：0.30000000000000004\n"
     ]
    }
   ],
   "source": [
    "result = 0.1 + 0.2\n",
    "\n",
    "# 打印结果\n",
    "print(f\"0.1 + 0.2 = {result}\")\n",
    "\n",
    "# 检查是否等于0.3\n",
    "print(f\"结果是否等于0.3：{result == 0.3}\")\n",
    "\n",
    "# 查看更多小数位\n",
    "print(f\"结果的更多小数位：{result:.17f}\")"
   ]
  },
  {
   "cell_type": "code",
   "execution_count": 8,
   "id": "5843b924-0ff1-42d9-acde-bbd5b90bd530",
   "metadata": {},
   "outputs": [
    {
     "name": "stdout",
     "output_type": "stream",
     "text": [
      "True\n"
     ]
    }
   ],
   "source": [
    "x = 0.1 + 0.2\n",
    "y = 0.3\n",
    "def is_close(a, b, rel_tol=1e-9):\n",
    "    return abs(a-b) <= rel_tol * max(abs(a), abs(b))\n",
    "\n",
    "print(is_close(x, y))  "
   ]
  },
  {
   "cell_type": "markdown",
   "id": "f362086b-e76e-4195-ba25-82ddd86c6b84",
   "metadata": {},
   "source": [
    "采用近似比较来解决上面的精度问题。"
   ]
  },
  {
   "cell_type": "code",
   "execution_count": 9,
   "id": "5363db4e-3788-4065-8997-1bac2ecfdab3",
   "metadata": {},
   "outputs": [
    {
     "name": "stdout",
     "output_type": "stream",
     "text": [
      "0.30000000000000004\n"
     ]
    }
   ],
   "source": [
    "price = 0.1\n",
    "total = price * 3\n",
    "print(total)"
   ]
  },
  {
   "cell_type": "markdown",
   "id": "b7f879ab-2d7b-4a72-a2ec-70fa9d65d1c0",
   "metadata": {},
   "source": [
    "上面这个精度问题，可以采用`Decimal`来解决。"
   ]
  },
  {
   "cell_type": "code",
   "execution_count": 10,
   "id": "94847a0c-0d05-4b63-a69b-dee0d4b7faaa",
   "metadata": {},
   "outputs": [
    {
     "name": "stdout",
     "output_type": "stream",
     "text": [
      "0.3\n"
     ]
    }
   ],
   "source": [
    "from decimal import Decimal\n",
    "price = Decimal('0.1')\n",
    "total = price * 3\n",
    "print(total) "
   ]
  },
  {
   "cell_type": "markdown",
   "id": "9087c6d6-ee13-43ae-b35d-bf1eb87cda9a",
   "metadata": {},
   "source": [
    "## 布尔值(bool)\n",
    "作为最简单的数据类型，只有`True`和`False`两种状态。\n",
    "* 只有两个可能的值：True 和 False\n",
    "* 用于逻辑运算和控制流\n",
    "* 实际上是 int 的子类，True 等同于 1，False 等同于 0\n"
   ]
  },
  {
   "cell_type": "code",
   "execution_count": 11,
   "id": "cd8dc054-85a9-4f54-8551-b5c0ac89bfce",
   "metadata": {},
   "outputs": [],
   "source": [
    "is_python_fun = True\n",
    "is_coding_hard = False"
   ]
  },
  {
   "cell_type": "code",
   "execution_count": 12,
   "id": "ee255ce4-fdf9-455b-b513-f208caa5ae5c",
   "metadata": {},
   "outputs": [
    {
     "name": "stdout",
     "output_type": "stream",
     "text": [
      "<class 'bool'>\n",
      "<class 'bool'>\n"
     ]
    }
   ],
   "source": [
    "print(type(True))   # 输出: <class 'bool'>\n",
    "print(type(False))  # 输出: <class 'bool'>"
   ]
  },
  {
   "cell_type": "markdown",
   "id": "02ae6001-f099-48cf-b0bb-707608ed242d",
   "metadata": {},
   "source": [
    "实际上布尔值是`int`的子类，`True`等同于1, `False`等同于0."
   ]
  },
  {
   "cell_type": "code",
   "execution_count": 13,
   "id": "bf6b01ba-2295-45d0-8d11-497af2e9618a",
   "metadata": {},
   "outputs": [
    {
     "name": "stdout",
     "output_type": "stream",
     "text": [
      "布尔值是整型的子类吗？ True\n"
     ]
    }
   ],
   "source": [
    "print(f\"布尔值是整型的子类吗？ {issubclass(bool, int)}\") "
   ]
  },
  {
   "cell_type": "code",
   "execution_count": 14,
   "id": "badbe0d2-b73e-47ec-b476-320eb9004e6d",
   "metadata": {},
   "outputs": [
    {
     "name": "stdout",
     "output_type": "stream",
     "text": [
      "1\n",
      "0\n",
      "1\n",
      "0\n"
     ]
    }
   ],
   "source": [
    "print(True + 0)   \n",
    "print(False + 0)  \n",
    "print(True - False)  \n",
    "print(False * 2)  "
   ]
  },
  {
   "cell_type": "markdown",
   "id": "81d2d9bb-c4ff-4cd1-be45-d9bbb2bf65a6",
   "metadata": {},
   "source": [
    "## 复数(Complex)\n",
    "Python对复数的支持非常优雅，就像是给了每个数字一个\"虚数小伙伴\"！我们看看他们是怎么建立的吧。"
   ]
  },
  {
   "cell_type": "code",
   "execution_count": 15,
   "id": "e1ba2dac-2eab-485c-83c1-549ff350fd95",
   "metadata": {},
   "outputs": [],
   "source": [
    "z1 = 3 + 4j\n",
    "z2 = complex(3, 4) "
   ]
  },
  {
   "cell_type": "code",
   "execution_count": 16,
   "id": "51b0999b-4550-4fbe-95e4-8f8938665c57",
   "metadata": {},
   "outputs": [
    {
     "name": "stdout",
     "output_type": "stream",
     "text": [
      "(3+4j)\n"
     ]
    }
   ],
   "source": [
    "print(z1)"
   ]
  },
  {
   "cell_type": "code",
   "execution_count": 17,
   "id": "78611bc5-df72-4de5-a314-2634c9d1e089",
   "metadata": {},
   "outputs": [
    {
     "name": "stdout",
     "output_type": "stream",
     "text": [
      "(3+4j)\n"
     ]
    }
   ],
   "source": [
    "print(z2)"
   ]
  },
  {
   "cell_type": "code",
   "execution_count": 18,
   "id": "74584ee3-a719-4f93-abb6-f1e7cc1a38ff",
   "metadata": {},
   "outputs": [
    {
     "name": "stdout",
     "output_type": "stream",
     "text": [
      "(3+1j)\n"
     ]
    }
   ],
   "source": [
    "c = 3 + 1j\n",
    "print(c)"
   ]
  },
  {
   "cell_type": "markdown",
   "id": "b7efc3b5-2cc6-493b-9589-ad626be2013e",
   "metadata": {},
   "source": [
    ":::{.callout-caution}\n",
    "注意3+j 在Python中必须用`3+1j`表示\n",
    ":::"
   ]
  },
  {
   "cell_type": "code",
   "execution_count": 19,
   "id": "d50adbc1-57b5-4681-aae0-5a3c5b1623a2",
   "metadata": {},
   "outputs": [
    {
     "name": "stdout",
     "output_type": "stream",
     "text": [
      "(4+6j)\n",
      "(-5+10j)\n",
      "(0.44+0.08j)\n",
      "(-3+4j)\n"
     ]
    }
   ],
   "source": [
    "z1 = 1 + 2j\n",
    "z2 = 3 + 4j\n",
    "\n",
    "print(z1 + z2)    \n",
    "print(z1 * z2)    \n",
    "print(z1 / z2)    \n",
    "print(z1 ** 2)    "
   ]
  },
  {
   "cell_type": "markdown",
   "id": "2a863c0d-ef83-4ba7-9c21-b55297fca25d",
   "metadata": {},
   "source": [
    "## NoneType\n",
    "`None`就像是Python世界的\"虚无\"，它表示\"什么都没有\"或\"不存在\"。"
   ]
  },
  {
   "cell_type": "code",
   "execution_count": 20,
   "id": "db8d19d9-3af1-459e-b830-7798999d0c6d",
   "metadata": {},
   "outputs": [],
   "source": [
    "result = None"
   ]
  },
  {
   "cell_type": "markdown",
   "id": "82adf582-ad39-4b58-8c26-0ff2954f74e7",
   "metadata": {},
   "source": [
    "可以用于函数的默认返回值"
   ]
  },
  {
   "cell_type": "code",
   "execution_count": 21,
   "id": "82085587-7130-429c-956f-c54cdaca71e2",
   "metadata": {},
   "outputs": [
    {
     "name": "stdout",
     "output_type": "stream",
     "text": [
      "Hello!\n",
      "Hello!\n",
      "None\n"
     ]
    }
   ],
   "source": [
    "def say_hello():\n",
    "    print(\"Hello!\")\n",
    "\n",
    "result = say_hello()\n",
    "print(say_hello())"
   ]
  },
  {
   "cell_type": "markdown",
   "id": "d0cef20f-f8e4-4411-8a82-1ecaa8d756d6",
   "metadata": {},
   "source": [
    "或者用于初始化。"
   ]
  },
  {
   "cell_type": "code",
   "execution_count": 22,
   "id": "919001e6-c535-457d-9c86-0404e4437904",
   "metadata": {},
   "outputs": [],
   "source": [
    "user_input = None\n",
    "data_from_api = None"
   ]
  },
  {
   "cell_type": "markdown",
   "id": "b6488b3f-ef6c-44df-8346-3447fd726baa",
   "metadata": {},
   "source": [
    ":::{.callout-caution}\n",
    "注意`None`有些场景特别容易出错。\n",
    ":::"
   ]
  },
  {
   "cell_type": "code",
   "execution_count": 23,
   "id": "a67c01fe-25c1-4caa-8ce9-583d14374f78",
   "metadata": {},
   "outputs": [
    {
     "name": "stdout",
     "output_type": "stream",
     "text": [
      "None是False吗？False\n"
     ]
    }
   ],
   "source": [
    "print(f\"None是False吗？{bool(None)}\")"
   ]
  },
  {
   "cell_type": "code",
   "execution_count": 24,
   "id": "885c978d-530b-41ee-81ce-ff237f03f00a",
   "metadata": {},
   "outputs": [
    {
     "name": "stdout",
     "output_type": "stream",
     "text": [
      "None == False? False\n"
     ]
    }
   ],
   "source": [
    "print(f\"None == False? {None == False}\")"
   ]
  },
  {
   "cell_type": "code",
   "execution_count": 25,
   "id": "69a2a771-3f15-46a8-88c7-4537458a0efd",
   "metadata": {},
   "outputs": [
    {
     "name": "stdout",
     "output_type": "stream",
     "text": [
      "None is False? False\n"
     ]
    }
   ],
   "source": [
    "print(f\"None is False? {None is False}\")"
   ]
  },
  {
   "cell_type": "code",
   "execution_count": 26,
   "id": "9477a8a6-4291-41c9-a7f2-28375f338c6d",
   "metadata": {},
   "outputs": [],
   "source": [
    "if None:\n",
    "    print(\"这不会执行\")"
   ]
  },
  {
   "cell_type": "code",
   "execution_count": 27,
   "id": "e3aa2295-666a-4d76-b44d-895e39574f38",
   "metadata": {},
   "outputs": [
    {
     "name": "stdout",
     "output_type": "stream",
     "text": [
      "False\n"
     ]
    }
   ],
   "source": [
    "empty_list = []\n",
    "print(empty_list is None)"
   ]
  },
  {
   "cell_type": "markdown",
   "id": "b2405b7b-0538-4617-9f99-8c69525b1606",
   "metadata": {},
   "source": [
    "## 字符串(str)\n",
    "字符串作为Python中文本处理的基本数据格式，就像一个装文字的口袋，可以装下任何文字内容并且拥有丰富的操作方法。字符串是不可变数据，因此每次操作都会形成新的字符串。"
   ]
  },
  {
   "cell_type": "code",
   "execution_count": 28,
   "id": "51e74e7a-66c9-405a-818e-651c94a4fa8a",
   "metadata": {},
   "outputs": [
    {
     "name": "stdout",
     "output_type": "stream",
     "text": [
      "hello的id是4386131184\n",
      "world的id是4397209200\n",
      "hello world的id是4397211248\n"
     ]
    }
   ],
   "source": [
    "hello = \"hello\"\n",
    "world = \"world\"\n",
    "combined = hello + \" \" + world\n",
    "print(f\"{hello}的id是{id(hello)}\")\n",
    "print(f\"{world}的id是{id(world)}\")\n",
    "print(f\"{combined}的id是{id(combined)}\")"
   ]
  },
  {
   "cell_type": "code",
   "execution_count": 29,
   "id": "416adac8-7440-4376-9efc-507d10ed923a",
   "metadata": {},
   "outputs": [],
   "source": [
    "multi = ''' 多行 输入\n",
    " 的方法\n",
    " 测试'''"
   ]
  },
  {
   "cell_type": "code",
   "execution_count": 30,
   "id": "9be0859f-b4ba-4f7f-a408-21a28a52b496",
   "metadata": {},
   "outputs": [
    {
     "name": "stdout",
     "output_type": "stream",
     "text": [
      "hello 的id是4397206896\n"
     ]
    }
   ],
   "source": [
    "hello_space = hello + \" \"\n",
    "print(f\"{hello_space}的id是{id(hello_space)}\")"
   ]
  },
  {
   "cell_type": "markdown",
   "id": "94f74f94-861e-405e-bd77-3f3bf7281982",
   "metadata": {},
   "source": [
    "### 字符串合并"
   ]
  },
  {
   "cell_type": "code",
   "execution_count": 31,
   "id": "8d105dc9-c3ca-49eb-a36a-7c73f8464fce",
   "metadata": {},
   "outputs": [
    {
     "name": "stdout",
     "output_type": "stream",
     "text": [
      "indroduce me\n"
     ]
    }
   ],
   "source": [
    "introduce = \"indroduce\" + \" me\"\n",
    "print(introduce)"
   ]
  },
  {
   "cell_type": "code",
   "execution_count": 32,
   "id": "d7398786-107d-48e4-ab84-ad1e606e14de",
   "metadata": {},
   "outputs": [
    {
     "name": "stdout",
     "output_type": "stream",
     "text": [
      "Hello, World, c++, PYTHON\n"
     ]
    }
   ],
   "source": [
    "test = [\"Hello\", \"World\",\"c++\", \"PYTHON\"]\n",
    "sentence = \", \".join(test)\n",
    "print(sentence)"
   ]
  },
  {
   "cell_type": "markdown",
   "id": "bdd4b522-dd14-4d8b-8a1a-989084f96f60",
   "metadata": {},
   "source": [
    "### 重复字符串"
   ]
  },
  {
   "cell_type": "code",
   "execution_count": 33,
   "id": "f0ac6e3b-9fce-4e8c-9541-2941e5d2e2f1",
   "metadata": {},
   "outputs": [
    {
     "name": "stdout",
     "output_type": "stream",
     "text": [
      "NaNaNaNaNaNa Batman! Batman! Batman! Batman! Batman! Batman! Batman!\n"
     ]
    }
   ],
   "source": [
    "repeat = \"Na\" * 6 + \" Batman!\" * 7\n",
    "print(repeat)  "
   ]
  },
  {
   "cell_type": "markdown",
   "id": "35299a4c-9a9b-4d7f-be38-07d8990866ba",
   "metadata": {},
   "source": [
    "### 索引与切片"
   ]
  },
  {
   "cell_type": "markdown",
   "id": "736649c1-474d-4a3e-b352-8a0489ee590e",
   "metadata": {},
   "source": [
    "切片的基本语法是:`sequence[start:stop:step]`"
   ]
  },
  {
   "cell_type": "code",
   "execution_count": 34,
   "id": "6f14e14f-d07f-468e-af9e-1cf651fdeb9d",
   "metadata": {},
   "outputs": [
    {
     "name": "stdout",
     "output_type": "stream",
     "text": [
      "P\n",
      "yth\n",
      "nohtyP\n"
     ]
    }
   ],
   "source": [
    "text = \"Python\" \n",
    "print(text[0]) \n",
    "print(text[1:4])  \n",
    "print(text[::-1]) "
   ]
  },
  {
   "cell_type": "code",
   "execution_count": 35,
   "id": "fea879f9-fb43-4733-b151-1394346cdd06",
   "metadata": {},
   "outputs": [
    {
     "name": "stdout",
     "output_type": "stream",
     "text": [
      "Error: 'str' object does not support item assignment\n"
     ]
    }
   ],
   "source": [
    "greeting = \"Hello\"\n",
    "try:\n",
    "    greeting[0] = 'h'\n",
    "except TypeError as e:\n",
    "    print(f\"Error: {e}\")"
   ]
  },
  {
   "cell_type": "markdown",
   "id": "bbedf24f-d577-4582-a5eb-ba6b03e2a0f3",
   "metadata": {},
   "source": [
    "### 查找与切换"
   ]
  },
  {
   "cell_type": "code",
   "execution_count": 36,
   "id": "4fd36eb5-1925-4588-8510-81d840309ce4",
   "metadata": {},
   "outputs": [
    {
     "name": "stdout",
     "output_type": "stream",
     "text": [
      "4\n",
      "您好，这是Python课程。\n",
      "你好，这是Python课程。\n"
     ]
    }
   ],
   "source": [
    "sentence = \"你好，这是Python课程。\"\n",
    "print(sentence.find(\"是\")) \n",
    "new_sentence = sentence.replace(\"你\", \"您\")\n",
    "print(new_sentence)  \n",
    "print(sentence)"
   ]
  },
  {
   "cell_type": "markdown",
   "id": "3e1ec482-f1ca-42b1-b12c-509109ba0a24",
   "metadata": {},
   "source": [
    "### 字符串分割"
   ]
  },
  {
   "cell_type": "code",
   "execution_count": 37,
   "id": "8ebbbd2d-9685-4693-9042-ab0bb13380fd",
   "metadata": {},
   "outputs": [
    {
     "name": "stdout",
     "output_type": "stream",
     "text": [
      "['we', 'have', 'apple', 'banana', 'and', 'cherry.']\n",
      "这里一共有6个单词\n"
     ]
    }
   ],
   "source": [
    "txt = \"we have apple banana and cherry.\"\n",
    "fruits = txt.split(\" \")\n",
    "print(fruits) \n",
    "print(f\"这里一共有{len(fruits)}个单词\")"
   ]
  },
  {
   "cell_type": "markdown",
   "id": "2748c34f-6a2e-42b7-b80e-f6543f6c294d",
   "metadata": {},
   "source": [
    "### 大小写切换"
   ]
  },
  {
   "cell_type": "code",
   "execution_count": 38,
   "id": "8450e9e5-1054-4dad-926e-6d7ce8fd3603",
   "metadata": {},
   "outputs": [
    {
     "name": "stdout",
     "output_type": "stream",
     "text": [
      "ARTIFICIAL INTELLIGENT IS FUN\n",
      "artificial intelligent is fun\n",
      "Artificial intelligent is fun\n"
     ]
    }
   ],
   "source": [
    "text = \"Artificial Intelligent is fun\"\n",
    "print(text.upper())      \n",
    "print(text.lower())     \n",
    "print(text.capitalize())"
   ]
  },
  {
   "cell_type": "markdown",
   "id": "3c91842d-350e-419a-9d6a-683cdad981d0",
   "metadata": {},
   "source": [
    "### 去除空格"
   ]
  },
  {
   "cell_type": "code",
   "execution_count": 39,
   "id": "2e64a194-8023-4984-acdc-c8bc7880a597",
   "metadata": {},
   "outputs": [
    {
     "name": "stdout",
     "output_type": "stream",
     "text": [
      "Python\n"
     ]
    }
   ],
   "source": [
    "text = \"   Python   \"\n",
    "print(text.strip()) "
   ]
  },
  {
   "cell_type": "markdown",
   "id": "c70af971-21e5-4c4b-8533-970df660bd9d",
   "metadata": {},
   "source": [
    "### 字符串检查"
   ]
  },
  {
   "cell_type": "code",
   "execution_count": 40,
   "id": "db3de415-a8e9-4516-bb20-ec8835bd3467",
   "metadata": {},
   "outputs": [
    {
     "name": "stdout",
     "output_type": "stream",
     "text": [
      "True\n",
      "False\n"
     ]
    }
   ],
   "source": [
    "print(\"Python\".startswith(\"Py\"))  \n",
    "print(\"Oth\".isdigit())            "
   ]
  },
  {
   "cell_type": "code",
   "execution_count": 41,
   "id": "efafbbde-7f7f-467e-977a-53e16a5268ce",
   "metadata": {},
   "outputs": [
    {
     "name": "stdout",
     "output_type": "stream",
     "text": [
      "False\n"
     ]
    }
   ],
   "source": [
    "text = \"Hello, world\"\n",
    "print(text.endswith(\"word\"))"
   ]
  },
  {
   "cell_type": "code",
   "execution_count": 42,
   "id": "5c95a7af-6410-40bf-a8ce-d4c9a7c80e1f",
   "metadata": {},
   "outputs": [
    {
     "name": "stdout",
     "output_type": "stream",
     "text": [
      "True\n"
     ]
    }
   ],
   "source": [
    "text = \"abc\"\n",
    "print(text.isalpha())"
   ]
  },
  {
   "cell_type": "markdown",
   "id": "bc930f88-0108-487c-8265-7548adfd5dc4",
   "metadata": {},
   "source": [
    "### 字符串格式化\n",
    "Python的字符串格式化有这么几种："
   ]
  },
  {
   "cell_type": "markdown",
   "id": "2206e3e5-4a0c-4140-b520-88f7a91a3000",
   "metadata": {},
   "source": [
    "* %符号"
   ]
  },
  {
   "cell_type": "code",
   "execution_count": 43,
   "id": "b90296b0-2213-4285-b4a2-30059ebaabe8",
   "metadata": {},
   "outputs": [
    {
     "name": "stdout",
     "output_type": "stream",
     "text": [
      "My name is Tom and I am 22 years old.\n"
     ]
    }
   ],
   "source": [
    "name = \"Tom\"\n",
    "age = 22\n",
    "formatted = \"My name is %s and I am %d years old.\" %(name, age)\n",
    "print(formatted)"
   ]
  },
  {
   "cell_type": "markdown",
   "id": "ecea1b5b-4952-44a6-9b4f-9bc9392fed20",
   "metadata": {},
   "source": [
    "* `format()`方法"
   ]
  },
  {
   "cell_type": "code",
   "execution_count": 44,
   "id": "6ad331d1-847d-42b2-808f-040a73b82a21",
   "metadata": {},
   "outputs": [
    {
     "name": "stdout",
     "output_type": "stream",
     "text": [
      "My name is Alice and I'm 30 years old\n"
     ]
    }
   ],
   "source": [
    "# 使用 format() 方法\n",
    "name = \"Alice\"\n",
    "age = 30\n",
    "print(\"My name is {} and I'm {} years old\".format(name, age))"
   ]
  },
  {
   "cell_type": "markdown",
   "id": "4a40c9cb-a7f4-48c3-9ed1-4084a7b91d8c",
   "metadata": {},
   "source": [
    "* f-strings由Python 3.6引入的最便捷的字符串格式方法"
   ]
  },
  {
   "cell_type": "code",
   "execution_count": 45,
   "id": "ad6ba62e-d478-40ff-b554-029f76c92143",
   "metadata": {},
   "outputs": [
    {
     "name": "stdout",
     "output_type": "stream",
     "text": [
      "My name is Judy and I'm 40 years old from USA\n"
     ]
    }
   ],
   "source": [
    "name = \"Judy\"\n",
    "age = 40\n",
    "country = \"USA\"\n",
    "print(f\"My name is {name} and I'm {age} years old from {country}\")"
   ]
  },
  {
   "cell_type": "code",
   "execution_count": 46,
   "id": "1d01e93a-6ea2-447e-8ad0-8a30ea021a60",
   "metadata": {},
   "outputs": [
    {
     "name": "stdout",
     "output_type": "stream",
     "text": [
      "Pi is 3.142\n"
     ]
    }
   ],
   "source": [
    "pi = 3.1415926\n",
    "print(f\"Pi is {pi:.3f}\")"
   ]
  },
  {
   "cell_type": "markdown",
   "id": "9e467b73",
   "metadata": {},
   "source": [
    "| 数据类型  | 描述  | 是否可变  | 示例 |\n",
    "|--------- |------|---------|------|\n",
    "| 整数 (int) | 表示整数 | 否 | `42`, `-10`, `0` |\n",
    "| 浮点数 (float) | 表示小数 | 否 | `3.14`, `-0.001`, `2.0e-3` |\n",
    "| 布尔 (bool) | 表示真或假 | 否 | `True`, `False` |\n",
    "| 字符串 (str) | 表示文本 | 否 | `\"Hello\"`, `'Python'` |\n",
    "| 复数 (complex) | 表示复数 | 否 | `3+4j`, `2-1j` |\n",
    "| NoneType | 表示空值 | 不适用 | `None` |"
   ]
  },
  {
   "cell_type": "code",
   "execution_count": null,
   "id": "37e68b25-d49f-49b2-968d-513879aa4615",
   "metadata": {},
   "outputs": [],
   "source": []
  }
 ],
 "metadata": {
  "kernelspec": {
   "display_name": "Python 3 (ipykernel)",
   "language": "python",
   "name": "python3"
  },
  "language_info": {
   "codemirror_mode": {
    "name": "ipython",
    "version": 3
   },
   "file_extension": ".py",
   "mimetype": "text/x-python",
   "name": "python",
   "nbconvert_exporter": "python",
   "pygments_lexer": "ipython3",
   "version": "3.11.7"
  },
  "toc": {
   "base_numbering": 1,
   "nav_menu": {},
   "number_sections": true,
   "sideBar": true,
   "skip_h1_title": false,
   "title_cell": "Table of Contents",
   "title_sidebar": "Contents",
   "toc_cell": false,
   "toc_position": {},
   "toc_section_display": true,
   "toc_window_display": false
  }
 },
 "nbformat": 4,
 "nbformat_minor": 5
}
