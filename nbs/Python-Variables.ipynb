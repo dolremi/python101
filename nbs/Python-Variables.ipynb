{
 "cells": [
  {
   "cell_type": "markdown",
   "id": "90acf2ac-a2de-4e4b-b68b-5385799b0bb6",
   "metadata": {},
   "source": [
    "# 变量\n",
    "\n",
    "> Python中的变量\n",
    "- order: 3"
   ]
  },
  {
   "cell_type": "markdown",
   "id": "c11bf54b",
   "metadata": {},
   "source": [
    "变量是编程语言里重要的基本概念，在各类高级语言里都用变量来代表一块内存区域，某一时刻这块区域里存储了‘a’，又一时刻可能又被存储成了'c'， 正是由于该块内存里的值可以随时发生变化，我们称之这个代表内存区域的符号为变量。\n",
    "在静态编程语言如C++，需要定义诸如`int i = 1;`需要定义数据类型，变量名以及数据。\n",
    "\n",
    "作为动态编程语言Python的变量赋值十分简单，直接使用变量名以及数值或者表达式就可以完成。"
   ]
  },
  {
   "cell_type": "code",
   "execution_count": 1,
   "id": "37b722b7-3e1c-4bbd-a7aa-3dd2d8b2b867",
   "metadata": {},
   "outputs": [],
   "source": [
    "a = 12"
   ]
  },
  {
   "cell_type": "code",
   "execution_count": 2,
   "id": "d2dcc5f9-0e42-4fd3-96b6-4b57f5b8664c",
   "metadata": {},
   "outputs": [
    {
     "name": "stdout",
     "output_type": "stream",
     "text": [
      "12\n"
     ]
    }
   ],
   "source": [
    "print(a)"
   ]
  },
  {
   "cell_type": "markdown",
   "id": "cb2b6237-a087-471a-9675-6fa78e5840c7",
   "metadata": {},
   "source": [
    "Python在内存中创建了一个数12，并用a指向了它。"
   ]
  },
  {
   "cell_type": "code",
   "execution_count": 4,
   "id": "084f88a0-feb5-428f-898d-9e06536f4d3d",
   "metadata": {},
   "outputs": [],
   "source": [
    "b = \"Hello world\""
   ]
  },
  {
   "cell_type": "code",
   "execution_count": 5,
   "id": "86f10561-322b-4e7f-ae7f-e41dc2931587",
   "metadata": {},
   "outputs": [
    {
     "name": "stdout",
     "output_type": "stream",
     "text": [
      "Hello world\n"
     ]
    }
   ],
   "source": [
    "print(b)"
   ]
  },
  {
   "cell_type": "code",
   "execution_count": 10,
   "id": "40e17431-3d98-46e5-b2a7-04eefe1f34bf",
   "metadata": {},
   "outputs": [
    {
     "data": {
      "text/plain": [
       "\u001b[1;31mSignature:\u001b[0m \u001b[0mid\u001b[0m\u001b[1;33m(\u001b[0m\u001b[0mobj\u001b[0m\u001b[1;33m,\u001b[0m \u001b[1;33m/\u001b[0m\u001b[1;33m)\u001b[0m\u001b[1;33m\u001b[0m\u001b[1;33m\u001b[0m\u001b[0m\n",
       "\u001b[1;31mDocstring:\u001b[0m\n",
       "Return the identity of an object.\n",
       "\n",
       "This is guaranteed to be unique among simultaneously existing objects.\n",
       "(CPython uses the object's memory address.)\n",
       "\u001b[1;31mType:\u001b[0m      builtin_function_or_method"
      ]
     },
     "metadata": {},
     "output_type": "display_data"
    }
   ],
   "source": [
    "?id"
   ]
  },
  {
   "cell_type": "markdown",
   "id": "dcb7d1e8-e7b8-48a6-8a1e-9db8f1a7b8b8",
   "metadata": {},
   "source": [
    "此时Python在内存中创建了一个字符串\"Hello world\", 并用b指向了它。"
   ]
  },
  {
   "cell_type": "code",
   "execution_count": 12,
   "id": "d3b7fdcb-5216-4e48-95df-d76375e2746b",
   "metadata": {},
   "outputs": [
    {
     "data": {
      "text/plain": [
       "\u001b[1;31mSignature:\u001b[0m \u001b[0mid\u001b[0m\u001b[1;33m(\u001b[0m\u001b[0mobj\u001b[0m\u001b[1;33m,\u001b[0m \u001b[1;33m/\u001b[0m\u001b[1;33m)\u001b[0m\u001b[1;33m\u001b[0m\u001b[1;33m\u001b[0m\u001b[0m\n",
       "\u001b[1;31mDocstring:\u001b[0m\n",
       "Return the identity of an object.\n",
       "\n",
       "This is guaranteed to be unique among simultaneously existing objects.\n",
       "(CPython uses the object's memory address.)\n",
       "\u001b[1;31mType:\u001b[0m      builtin_function_or_method"
      ]
     },
     "metadata": {},
     "output_type": "display_data"
    }
   ],
   "source": [
    "??id"
   ]
  },
  {
   "cell_type": "markdown",
   "id": "f9f2b308-f23c-414f-9a20-68b8b6f72204",
   "metadata": {},
   "source": [
    "我们可以通过函数`id`来找到每个对象所在的内存位置。"
   ]
  },
  {
   "cell_type": "code",
   "execution_count": 14,
   "id": "1021f711-33b9-4097-9510-f3db4c1f16a8",
   "metadata": {},
   "outputs": [
    {
     "name": "stdout",
     "output_type": "stream",
     "text": [
      "a的id是140714425662232\n"
     ]
    }
   ],
   "source": [
    "print(f'a的id是{id(a)}')"
   ]
  },
  {
   "cell_type": "code",
   "execution_count": 16,
   "id": "81d65f13-ff6b-40e8-82dd-d924db786983",
   "metadata": {},
   "outputs": [
    {
     "name": "stdout",
     "output_type": "stream",
     "text": [
      "b的id是2673917645360\n"
     ]
    }
   ],
   "source": [
    "print(f'b的id是{id(b)}')"
   ]
  },
  {
   "cell_type": "code",
   "execution_count": 18,
   "id": "18a6116d-957e-4b9a-8296-5a5b260e46e0",
   "metadata": {},
   "outputs": [
    {
     "name": "stdout",
     "output_type": "stream",
     "text": [
      "a的id是140714425662264\n"
     ]
    }
   ],
   "source": [
    "a = 13\n",
    "print(f\"a的id是{id(a)}\")"
   ]
  },
  {
   "cell_type": "code",
   "execution_count": 20,
   "id": "7f0ae6c3-5184-4edf-b662-d3cd3cafaf2a",
   "metadata": {},
   "outputs": [
    {
     "name": "stdout",
     "output_type": "stream",
     "text": [
      "a的值是Hello world, a的id值是2673917645360\n",
      "b的值是Hello world, b的id值是2673917645360\n"
     ]
    }
   ],
   "source": [
    "# 我们可以看看当执行a = b会发生什么\n",
    "a = b\n",
    "print(f'a的值是{a}, a的id值是{id(a)}')\n",
    "print(f'b的值是{b}, b的id值是{id(b)}')"
   ]
  },
  {
   "attachments": {
    "1ab4670d-b6d3-4f67-b7b5-120b0be7f1c4.png": {
     "image/png": "[encoded data removed]"
    }
   },
   "cell_type": "markdown",
   "id": "f4d37c4e-32f6-42ee-aeef-7802e54edf0a",
   "metadata": {},
   "source": [
    "当执行`a=b`以后，`a`和`b`指向同一个地址。如图\n",
    "![image.png](attachment:1ab4670d-b6d3-4f67-b7b5-120b0be7f1c4.png)"
   ]
  },
  {
   "cell_type": "markdown",
   "id": "8729b1c3-cc34-41b4-b63f-ac7d0607e432",
   "metadata": {},
   "source": [
    "### 不可变数据类型\n",
    "在Python中，不可变数据类型是指一旦创建就不能被修改的对象。让我们继续上面的例子重新给`a`赋值。"
   ]
  },
  {
   "cell_type": "code",
   "execution_count": 22,
   "id": "e42714ea-d682-4f79-9e79-44f198dff2b0",
   "metadata": {},
   "outputs": [
    {
     "name": "stdout",
     "output_type": "stream",
     "text": [
      "a的值是10, a的id值是140714425662168\n",
      "b的值是Hello world, b的id值是2673917645360\n"
     ]
    }
   ],
   "source": [
    "a = 10\n",
    "print(f'a的值是{a}, a的id值是{id(a)}')\n",
    "print(f'b的值是{b}, b的id值是{id(b)}')"
   ]
  },
  {
   "cell_type": "markdown",
   "id": "c43b81d5-9da1-41fd-98ca-e5c4c68b5b84",
   "metadata": {},
   "source": [
    "当执行完`a=10`以后, Python在内存中创建了一个整数10，并用a指向了它。b的值还有内存地址都不变。"
   ]
  },
  {
   "cell_type": "code",
   "execution_count": 24,
   "id": "4f9787e5-7f6f-4e91-b110-7dbde0df1db4",
   "metadata": {},
   "outputs": [
    {
     "name": "stdout",
     "output_type": "stream",
     "text": [
      "b的值是Python is fun, b的id值是2673941822576\n"
     ]
    }
   ],
   "source": [
    "b = \"Python is fun\"\n",
    "print(f'b的值是{b}, b的id值是{id(b)}')"
   ]
  },
  {
   "cell_type": "markdown",
   "id": "d92e2701-88cb-49b1-aa4e-07bb1fc0c461",
   "metadata": {},
   "source": [
    "### 可变数据类型\n",
    "我们来看如果修改可变数据类型，会发生什么。"
   ]
  },
  {
   "cell_type": "code",
   "execution_count": 26,
   "id": "0b732900-d03f-4666-baca-c7da039d16f4",
   "metadata": {},
   "outputs": [
    {
     "name": "stdout",
     "output_type": "stream",
     "text": [
      "list1: [1, 2, 3], list1的id: 2673941775232\n",
      "list2: [1, 2, 3], list2的id: 2673941775232\n"
     ]
    }
   ],
   "source": [
    "list1 = [1, 2, 3]\n",
    "list2 = list1\n",
    "\n",
    "print(f\"list1: {list1}, list1的id: {id(list1)}\")\n",
    "print(f\"list2: {list2}, list2的id: {id(list2)}\")"
   ]
  },
  {
   "cell_type": "code",
   "execution_count": 28,
   "id": "d72f9a6a-ea1e-4340-83a0-25e398ef3086",
   "metadata": {},
   "outputs": [
    {
     "name": "stdout",
     "output_type": "stream",
     "text": [
      "修改后list1: [1, 2, 3, 4], list1的id: 2673941775232\n",
      "list2: [1, 2, 3, 4], list2的id: 2673941775232\n"
     ]
    }
   ],
   "source": [
    "list1.append(4)\n",
    "print(f\"修改后list1: {list1}, list1的id: {id(list1)}\")\n",
    "print(f\"list2: {list2}, list2的id: {id(list2)}\")"
   ]
  },
  {
   "cell_type": "markdown",
   "id": "714ca63f-170e-4d22-855a-447f8b698e23",
   "metadata": {},
   "source": [
    "\n",
    "* 创建列表 list1 = [1, 2, 3] 时,Python在内存中创建了这个列表对象。\n",
    "* list2 = list1 使list2指向同一个列表对象。\n",
    "* 当我们修改list1时(如append),实际上是修改了它指向的对象。因为list2指向同一个对象,所以list2也会看到这个变化。"
   ]
  },
  {
   "cell_type": "code",
   "execution_count": 30,
   "id": "c8af7da6-bc34-44be-8495-5db4dd444099",
   "metadata": {},
   "outputs": [
    {
     "name": "stdout",
     "output_type": "stream",
     "text": [
      "函数调用后list1: [1, 2, 3, 4, 5]\n",
      "函数调用后list2: [1, 2, 3, 4, 5]\n"
     ]
    }
   ],
   "source": [
    "def modify_list(lst):\n",
    "    lst.append(5)\n",
    "\n",
    "modify_list(list1)\n",
    "print(f\"函数调用后list1: {list1}\")\n",
    "print(f\"函数调用后list2: {list2}\")"
   ]
  },
  {
   "cell_type": "markdown",
   "id": "18df87f5-84f5-48d7-b55d-c42e8747fabe",
   "metadata": {},
   "source": [
    "* 在Python中,函数参数是通过引用传递的。\n",
    "* 当我们将list1传给函数modify_list时,函数内的lst参数指向与list1相同的对象。\n",
    "* 因此,函数内对lst的修改会影响到list1和list2。"
   ]
  },
  {
   "cell_type": "code",
   "execution_count": 32,
   "id": "abd393b8-a7f8-4138-bc25-f0590dd98a5c",
   "metadata": {},
   "outputs": [
    {
     "name": "stdout",
     "output_type": "stream",
     "text": [
      "临时对象的id: 2673941931520\n"
     ]
    }
   ],
   "source": [
    "def create_object():\n",
    "    temp = \"这是一个临时对象\"\n",
    "    print(f\"临时对象的id: {id(temp)}\")\n",
    "\n",
    "create_object()"
   ]
  },
  {
   "cell_type": "markdown",
   "id": "8bf0d45b-c5c8-4425-ace8-b3f58f9e77e8",
   "metadata": {},
   "source": [
    "* 在函数create_object中,我们创建了一个临时字符串对象。\n",
    "* 当函数结束后,这个对象不再被任何变量引用,Python的垃圾回收机制会在适当的时候将其删除,释放内存。"
   ]
  },
  {
   "cell_type": "code",
   "execution_count": null,
   "id": "731a8018-7a02-4d01-811f-11912ddbb6e6",
   "metadata": {},
   "outputs": [],
   "source": []
  }
 ],
 "metadata": {
  "kernelspec": {
   "display_name": "Python 3 (ipykernel)",
   "language": "python",
   "name": "python3"
  },
  "language_info": {
   "codemirror_mode": {
    "name": "ipython",
    "version": 3
   },
   "file_extension": ".py",
   "mimetype": "text/x-python",
   "name": "python",
   "nbconvert_exporter": "python",
   "pygments_lexer": "ipython3",
   "version": "3.11.7"
  },
  "toc": {
   "base_numbering": 1,
   "nav_menu": {},
   "number_sections": true,
   "sideBar": true,
   "skip_h1_title": false,
   "title_cell": "Table of Contents",
   "title_sidebar": "Contents",
   "toc_cell": false,
   "toc_position": {},
   "toc_section_display": true,
   "toc_window_display": false
  }
 },
 "nbformat": 4,
 "nbformat_minor": 5
}
