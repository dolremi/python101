{
 "cells": [
  {
   "cell_type": "code",
   "execution_count": null,
   "id": "d5f13ad2-81ab-4215-9489-f78db5c1a8e6",
   "metadata": {},
   "outputs": [],
   "source": []
  }
 ],
 "metadata": {
  "kernelspec": {
   "display_name": "",
   "name": ""
  },
  "language_info": {
   "name": ""
  }
 },
 "nbformat": 4,
 "nbformat_minor": 5
}
