{
 "cells": [
  {
   "cell_type": "markdown",
   "id": "913ad20e",
   "metadata": {},
   "source": [
    "# Set\n",
    "\n",
    "与序列数据结构不同的是,set 作为一种无序，可变的集合，其中的元素是唯一的，可以看作是数学中的集合概念："
   ]
  },
  {
   "cell_type": "markdown",
   "id": "c319d5dc",
   "metadata": {},
   "source": [
    "- 元素在set中没有特定的顺序\n",
    "- 每个元素只能出现一次\n",
    "- 可以添加或者删除元素\n",
    "- 元素必须是不可变类型"
   ]
  },
  {
   "cell_type": "markdown",
   "id": "a9221c61",
   "metadata": {},
   "source": [
    "## 创建\n",
    "使用花括号{}或者`set()`函数创建"
   ]
  },
  {
   "cell_type": "code",
   "execution_count": 1,
   "id": "3a14cf2b",
   "metadata": {},
   "outputs": [],
   "source": [
    "empty_set = set()\n",
    "mixed_set = (-34, 0.618, False, '列表创建', 5+5j)\n",
    "coffee_set = set(['瑞幸', '星巴克', 'manner', 'M stand'])"
   ]
  },
  {
   "cell_type": "markdown",
   "id": "644fe13a",
   "metadata": {},
   "source": [
    ":::{.callout-note}\n",
    "花括号{}创建的是空字典，不是空集合\n",
    ":::"
   ]
  },
  {
   "cell_type": "markdown",
   "id": "b43d63be",
   "metadata": {},
   "source": [
    "## 添加元素"
   ]
  },
  {
   "cell_type": "code",
   "execution_count": 2,
   "id": "e807852d",
   "metadata": {},
   "outputs": [],
   "source": [
    "coffee_set.add('Beets coffee')"
   ]
  },
  {
   "cell_type": "code",
   "execution_count": 3,
   "id": "c83f0709",
   "metadata": {},
   "outputs": [
    {
     "data": {
      "text/plain": [
       "{'Beets coffee', 'M stand', 'manner', '星巴克', '瑞幸'}"
      ]
     },
     "execution_count": 3,
     "metadata": {},
     "output_type": "execute_result"
    }
   ],
   "source": [
    "coffee_set"
   ]
  },
  {
   "cell_type": "code",
   "execution_count": 4,
   "id": "39441046",
   "metadata": {},
   "outputs": [],
   "source": [
    "coffee_set.update(['雀巢','精品'])"
   ]
  },
  {
   "cell_type": "code",
   "execution_count": 5,
   "id": "713b2a4a",
   "metadata": {},
   "outputs": [
    {
     "data": {
      "text/plain": [
       "{'Beets coffee', 'M stand', 'manner', '星巴克', '瑞幸', '精品', '雀巢'}"
      ]
     },
     "execution_count": 5,
     "metadata": {},
     "output_type": "execute_result"
    }
   ],
   "source": [
    "coffee_set"
   ]
  },
  {
   "cell_type": "markdown",
   "id": "bc943394",
   "metadata": {},
   "source": [
    "## 删除元素"
   ]
  },
  {
   "cell_type": "code",
   "execution_count": 6,
   "id": "221de692",
   "metadata": {},
   "outputs": [],
   "source": [
    "coffee_set.remove('精品')"
   ]
  },
  {
   "cell_type": "code",
   "execution_count": 7,
   "id": "77f81072",
   "metadata": {},
   "outputs": [
    {
     "data": {
      "text/plain": [
       "{'Beets coffee', 'M stand', 'manner', '星巴克', '瑞幸', '雀巢'}"
      ]
     },
     "execution_count": 7,
     "metadata": {},
     "output_type": "execute_result"
    }
   ],
   "source": [
    "coffee_set"
   ]
  },
  {
   "cell_type": "code",
   "execution_count": 8,
   "id": "079d9338",
   "metadata": {},
   "outputs": [
    {
     "data": {
      "text/plain": [
       "'瑞幸'"
      ]
     },
     "execution_count": 8,
     "metadata": {},
     "output_type": "execute_result"
    }
   ],
   "source": [
    "coffee_set.pop()"
   ]
  },
  {
   "cell_type": "markdown",
   "id": "090d0ec9",
   "metadata": {},
   "source": [
    ":::{.callout_note}\n",
    "在集合`set`里`pop()`函数是随机移除一个元素\n",
    ":::"
   ]
  },
  {
   "cell_type": "code",
   "execution_count": 9,
   "id": "350e8bfe",
   "metadata": {},
   "outputs": [
    {
     "data": {
      "text/plain": [
       "{'Beets coffee', 'M stand', 'manner', '星巴克', '雀巢'}"
      ]
     },
     "execution_count": 9,
     "metadata": {},
     "output_type": "execute_result"
    }
   ],
   "source": [
    "coffee_set"
   ]
  },
  {
   "cell_type": "markdown",
   "id": "c620476f",
   "metadata": {},
   "source": [
    "## 集合操作"
   ]
  },
  {
   "cell_type": "code",
   "execution_count": 10,
   "id": "1a0b6f8d",
   "metadata": {},
   "outputs": [
    {
     "name": "stdout",
     "output_type": "stream",
     "text": [
      "{1, 2, 3, 4, 5, 6}\n",
      "{3, 4}\n",
      "{1, 2}\n",
      "{1, 2, 5, 6}\n"
     ]
    }
   ],
   "source": [
    "set1 = {1, 2, 3, 4}\n",
    "set2 = {3, 4, 5, 6}\n",
    "print(set1 | set2)  \n",
    "print(set1 & set2)  \n",
    "print(set1 - set2)  \n",
    "print(set1 ^ set2) "
   ]
  },
  {
   "cell_type": "markdown",
   "id": "80a00e53",
   "metadata": {},
   "source": [
    "## 冻结集合\n",
    "`frozenset`是不可变版本的`set`."
   ]
  },
  {
   "cell_type": "code",
   "execution_count": 11,
   "id": "eb99fc6e",
   "metadata": {},
   "outputs": [],
   "source": [
    "frozen = frozenset([1, 2, 3])"
   ]
  },
  {
   "cell_type": "markdown",
   "id": "38dde4cc",
   "metadata": {},
   "source": [
    "## 性能\n",
    "集合的查找、添加和删除操作的平均时间复杂度为O(1),使其在处理唯一性和成员资格检查时非常高效。"
   ]
  },
  {
   "cell_type": "code",
   "execution_count": null,
   "id": "0628d8ca",
   "metadata": {},
   "outputs": [],
   "source": []
  }
 ],
 "metadata": {
  "kernelspec": {
   "display_name": "Python 3 (ipykernel)",
   "language": "python",
   "name": "python3"
  },
  "language_info": {
   "codemirror_mode": {
    "name": "ipython",
    "version": 3
   },
   "file_extension": ".py",
   "mimetype": "text/x-python",
   "name": "python",
   "nbconvert_exporter": "python",
   "pygments_lexer": "ipython3",
   "version": "3.11.7"
  },
  "toc": {
   "base_numbering": 1,
   "nav_menu": {},
   "number_sections": true,
   "sideBar": true,
   "skip_h1_title": false,
   "title_cell": "Table of Contents",
   "title_sidebar": "Contents",
   "toc_cell": false,
   "toc_position": {},
   "toc_section_display": true,
   "toc_window_display": false
  }
 },
 "nbformat": 4,
 "nbformat_minor": 5
}
