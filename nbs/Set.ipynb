{
 "cells": [
  {
   "cell_type": "markdown",
   "id": "913ad20e",
   "metadata": {},
   "source": [
    "# Set\n",
    "与序列数据结构不同的是,set 作为一种无序，可变的集合，其中的元素是唯一的，可以看作是数学中的集合概念：\n",
    "- 元素在set中没有特定的顺序\n",
    "- 每个元素只能出现一次\n",
    "- 可以添加或者删除特定"
   ]
  }
 ],
 "metadata": {
  "kernelspec": {
   "display_name": "Python 3 (ipykernel)",
   "language": "python",
   "name": "python3"
  },
  "language_info": {
   "codemirror_mode": {
    "name": "ipython",
    "version": 3
   },
   "file_extension": ".py",
   "mimetype": "text/x-python",
   "name": "python",
   "nbconvert_exporter": "python",
   "pygments_lexer": "ipython3",
   "version": "3.11.7"
  },
  "toc": {
   "base_numbering": 1,
   "nav_menu": {},
   "number_sections": true,
   "sideBar": true,
   "skip_h1_title": false,
   "title_cell": "Table of Contents",
   "title_sidebar": "Contents",
   "toc_cell": false,
   "toc_position": {},
   "toc_section_display": true,
   "toc_window_display": false
  }
 },
 "nbformat": 4,
 "nbformat_minor": 5
}
