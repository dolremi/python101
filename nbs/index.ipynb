{
 "cells": [
  {
   "cell_type": "markdown",
   "metadata": {},
   "source": [
    "# 欢迎进入Python世界\n",
    "\n",
    "> 欢迎来到Python的世界\n",
    "\n",
    "想象一下，Python 就像是一个充满魔法的编程仙境，而你，正站在这个神奇世界的入口。这里没有复杂的咒语，没有晦涩的语法，只有简单、优雅、充满乐趣的编程之旅！"
   ]
  },
  {
   "cell_type": "markdown",
   "metadata": {},
   "source": [
    "🎉 为什么选择 Python？\n",
    "\n",
    "1. 新手友好 🐣 代码看起来就像是用英语写的！没有复杂的括号和分号，一眼就能读懂。\n",
    "2. 全能王者 🏆 数据分析？做！机器学习？可以！Web开发？没问题！游戏开发？来吧！\n",
    "3. 社区超级无敌 👥 全球数百万程序员随时在线，遇到问题秒级解决。\n",
    "4. 薪资诱人 💰 Python 工程师平均年薪轻松破 30 万，顶级工程师更是突破 50 万！\n",
    "5. 未来科技的语言 🚀 AI、大数据、区块链......哪个不是 Python 的主场？\n",
    "\n",
    "🌈 加入 Python 的世界，不仅仅是学习一门编程语言，\n",
    "更是开启一段充满创造力和无限可能的奇妙旅程！\n",
    "准备好了吗？让我们一起用代码改变世界！🌍✨\n",
    "想来一段充满激情的编程启航吗？还是想先了解具体该如何开始这段旅程？"
   ]
  },
  {
   "cell_type": "code",
   "execution_count": 1,
   "metadata": {},
   "outputs": [
    {
     "name": "stdout",
     "output_type": "stream",
     "text": [
      "The Zen of Python, by Tim Peters\n",
      "\n",
      "Beautiful is better than ugly.\n",
      "Explicit is better than implicit.\n",
      "Simple is better than complex.\n",
      "Complex is better than complicated.\n",
      "Flat is better than nested.\n",
      "Sparse is better than dense.\n",
      "Readability counts.\n",
      "Special cases aren't special enough to break the rules.\n",
      "Although practicality beats purity.\n",
      "Errors should never pass silently.\n",
      "Unless explicitly silenced.\n",
      "In the face of ambiguity, refuse the temptation to guess.\n",
      "There should be one-- and preferably only one --obvious way to do it.\n",
      "Although that way may not be obvious at first unless you're Dutch.\n",
      "Now is better than never.\n",
      "Although never is often better than *right* now.\n",
      "If the implementation is hard to explain, it's a bad idea.\n",
      "If the implementation is easy to explain, it may be a good idea.\n",
      "Namespaces are one honking great idea -- let's do more of those!\n"
     ]
    }
   ],
   "source": [
    "import this"
   ]
  },
  {
   "cell_type": "markdown",
   "metadata": {},
   "source": [
    "上面是Python的设计哲学，简单来说就是：写代码时，别把事情搞复杂，保持清晰、简洁，错误要敢于面对，代码要让人看得懂。欢迎来到 Python 的世界，放心，大家都会陪着你一起成长的！🚀"
   ]
  },
  {
   "cell_type": "markdown",
   "metadata": {},
   "source": [
    "在探索Python世界的过程中，我们将使用Python一起搭建一个数字奶茶店."
   ]
  }
 ],
 "metadata": {
  "kernelspec": {
   "display_name": "Python 3 (ipykernel)",
   "language": "python",
   "name": "python3"
  },
  "language_info": {
   "codemirror_mode": {
    "name": "ipython",
    "version": 3
   },
   "file_extension": ".py",
   "mimetype": "text/x-python",
   "name": "python",
   "nbconvert_exporter": "python",
   "pygments_lexer": "ipython3",
   "version": "3.11.7"
  },
  "toc": {
   "base_numbering": 1,
   "nav_menu": {},
   "number_sections": true,
   "sideBar": true,
   "skip_h1_title": false,
   "title_cell": "Table of Contents",
   "title_sidebar": "Contents",
   "toc_cell": false,
   "toc_position": {},
   "toc_section_display": true,
   "toc_window_display": false
  }
 },
 "nbformat": 4,
 "nbformat_minor": 4
}
