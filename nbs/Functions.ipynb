{
 "cells": [
  {
   "cell_type": "markdown",
   "id": "e7c7d291-9659-4ccd-9426-c770d763692b",
   "metadata": {},
   "source": [
    "# 函数\n",
    "在数学中，我们接触到了函数的概念，定义为一个集合A到集合B的映射。在编程语言中也有类似的概念，也是有输入参数到输出参数的机制。它有很多好处：\n",
    "* 代码重用，可以将代码逻辑封装成函数，可以在多个地方调用。\n",
    "* 将复杂的操作分解成小的，易于理解的函数可以提高可读性。\n",
    "* 提供了一种抽象机制，有助于简化问题。\n",
    "* 促进了并发和异步编程\n",
    "* 测试将更加方便"
   ]
  },
  {
   "cell_type": "code",
   "execution_count": 1,
   "id": "4a189715-9e33-447a-8725-b2fbf89b8344",
   "metadata": {},
   "outputs": [],
   "source": [
    "def fib(n):\n",
    "    \"\"\"打印小于n的斐波拉契数列.\"\"\"\n",
    "    a, b = 0, 1\n",
    "    while a < n:\n",
    "        print(a, end=' ')\n",
    "        a, b = b, a+b\n",
    "    print()\n",
    "\n",
    "fib(200)"
   ]
  },
  {
   "cell_type": "markdown",
   "id": "dab16ebf-616b-4b58-a263-a2712e91952f",
   "metadata": {},
   "source": [
    "以上就是一个典型的`python`函数，包括这么几个性质：\n",
    "* 定义函数：使用`def`关键字，后跟函数名和括号。\n",
    "* 参数：函数可以接受参数，这些参数在括号内定义。\n",
    "* 返回值：使用`return`语句返回函数的结果。\n",
    "* 调用函数: 使用函数明加括号来调用函数。"
   ]
  },
  {
   "cell_type": "markdown",
   "id": "9ae4bb4c-a005-46ca-857f-b1753bd22929",
   "metadata": {},
   "source": [
    "## 参数类型\n",
    "Python可以接受不同类型的参数：\n",
    "- 位置参数"
   ]
  },
  {
   "cell_type": "code",
   "execution_count": 3,
   "id": "3917cf70-0dd4-4ba3-b5a9-b752d19cb701",
   "metadata": {},
   "outputs": [
    {
     "name": "stdout",
     "output_type": "stream",
     "text": [
      "8\n"
     ]
    }
   ],
   "source": [
    "def add(a, b):\n",
    "    return a + b\n",
    "\n",
    "result = add(3, 5)\n",
    "print(result)"
   ]
  },
  {
   "cell_type": "markdown",
   "id": "6b055d8b-dc55-455e-85fd-30ce36237bdd",
   "metadata": {},
   "source": [
    "- 关键字参数\n",
    "通过关键字`=`对应的值这样的形式来传参。"
   ]
  },
  {
   "cell_type": "code",
   "execution_count": 5,
   "id": "1b3c3e6e-695b-4268-88b4-9904b6dd0dee",
   "metadata": {},
   "outputs": [
    {
     "name": "stdout",
     "output_type": "stream",
     "text": [
      "你好, 小明!\n"
     ]
    }
   ],
   "source": [
    "def greet(name, greeting):\n",
    "    return f\"{greeting}, {name}!\"\n",
    "\n",
    "result = greet(greeting=\"你好\", name=\"小明\") \n",
    "print(result)"
   ]
  },
  {
   "cell_type": "markdown",
   "id": "af99707d-2b47-4e05-88a4-e039534719e5",
   "metadata": {},
   "source": [
    " - 使用 `*args`这样的参数列表形式和``**kwargs``这样的关键字参数形式来代表可变数量的参数。"
   ]
  },
  {
   "cell_type": "code",
   "execution_count": 6,
   "id": "8bb11cb7-6b5c-4fd6-ab68-362be804394e",
   "metadata": {},
   "outputs": [
    {
     "name": "stdout",
     "output_type": "stream",
     "text": [
      "10\n"
     ]
    }
   ],
   "source": [
    "def sum_all(*args):\n",
    "    return sum(args)\n",
    "\n",
    "result = sum_all(1, 2, 3, 4) \n",
    "print(result)"
   ]
  },
  {
   "cell_type": "code",
   "execution_count": 7,
   "id": "101c7763-76ad-46bb-8017-faed8c974ebf",
   "metadata": {},
   "outputs": [
    {
     "name": "stdout",
     "output_type": "stream",
     "text": [
      "name: 小明\n",
      "age: 25\n",
      "city: 北京\n"
     ]
    }
   ],
   "source": [
    "def print_info(**kwargs):\n",
    "    for key, value in kwargs.items():\n",
    "        print(f\"{key}: {value}\")\n",
    "\n",
    "print_info(name=\"小明\", age=25, city=\"北京\")"
   ]
  },
  {
   "cell_type": "markdown",
   "id": "b967fbee-ea40-4de0-a046-a1ade8350e02",
   "metadata": {},
   "source": [
    "- 默认参数\n",
    "默认参数允许在定义函数时为参数指定参数值，并且默认参数必须放在非默认参数之后。"
   ]
  },
  {
   "cell_type": "code",
   "execution_count": 8,
   "id": "1d1ecb40-a773-480d-939d-527dcecd4e21",
   "metadata": {},
   "outputs": [],
   "source": [
    "def greet(name, greeting=\"你好\"):\n",
    "    return f\"{greeting}, {name}\"\n",
    "\n",
    "result1 = greet(\"小明\")"
   ]
  },
  {
   "cell_type": "code",
   "execution_count": 9,
   "id": "be55e809-8aae-425e-a2f4-8cc7565d3a3b",
   "metadata": {},
   "outputs": [
    {
     "name": "stdout",
     "output_type": "stream",
     "text": [
      "你好, 小明\n"
     ]
    }
   ],
   "source": [
    "print(result1)"
   ]
  },
  {
   "cell_type": "code",
   "execution_count": 10,
   "id": "147d761f-7719-4b46-bf91-472261cad516",
   "metadata": {},
   "outputs": [
    {
     "name": "stdout",
     "output_type": "stream",
     "text": [
      "早上好, 小明\n"
     ]
    }
   ],
   "source": [
    "result2 = greet(\"小明\", \"早上好\")\n",
    "print(result2)"
   ]
  },
  {
   "cell_type": "markdown",
   "id": "bcc96584-ca10-488a-8b69-b76b2b9f7878",
   "metadata": {},
   "source": [
    "默认参数只会计算一次，因此当默认值是可变对象时候要特别小心。"
   ]
  },
  {
   "cell_type": "code",
   "execution_count": 11,
   "id": "4a99d4e8-7675-428b-9e7a-4b888361f081",
   "metadata": {},
   "outputs": [
    {
     "name": "stdout",
     "output_type": "stream",
     "text": [
      "[1]\n",
      "[1, 2]\n",
      "[1, 2, 3]\n"
     ]
    }
   ],
   "source": [
    "def f(a, L=[]):\n",
    "    L.append(a)\n",
    "    return L\n",
    "\n",
    "print(f(1))\n",
    "print(f(2))\n",
    "print(f(3))"
   ]
  },
  {
   "cell_type": "markdown",
   "id": "ae1d8aca-5315-4fb6-92da-68cf6c5bf07a",
   "metadata": {},
   "source": [
    "可以看到默认值在多次调用函数中会共享，为了避免这一情况的发生，可以改变默认值："
   ]
  },
  {
   "cell_type": "code",
   "execution_count": 12,
   "id": "846c9ee1-0d87-47a5-9646-61a9fff82801",
   "metadata": {},
   "outputs": [],
   "source": [
    "def f(a, L=None):\n",
    "    if L is None:\n",
    "        L = []\n",
    "    L.append(a)\n",
    "    return L"
   ]
  },
  {
   "cell_type": "markdown",
   "id": "f3e735f1-4464-4aca-9ff1-8cd1d609f80a",
   "metadata": {},
   "source": [
    "- 匿名函数(`lambda`)\n",
    "`lambda`函数是一种小型匿名函数，可以有任何数量的参数，但只能有一个表达式。"
   ]
  },
  {
   "cell_type": "code",
   "execution_count": 13,
   "id": "9dae306d-831b-4207-9be5-3111d8479953",
   "metadata": {},
   "outputs": [
    {
     "name": "stdout",
     "output_type": "stream",
     "text": [
      "16\n"
     ]
    }
   ],
   "source": [
    "def square(x):\n",
    "    return x ** 2\n",
    "\n",
    "print(square(4))"
   ]
  },
  {
   "cell_type": "code",
   "execution_count": 14,
   "id": "aa9ad6fb-31b2-473d-8c03-9ee287d4f0c8",
   "metadata": {},
   "outputs": [
    {
     "name": "stdout",
     "output_type": "stream",
     "text": [
      "16\n"
     ]
    }
   ],
   "source": [
    "squared_lambda = lambda x: x ** 2\n",
    "print(squared_lambda(4))"
   ]
  },
  {
   "cell_type": "code",
   "execution_count": 15,
   "id": "e653d9d7-ea19-42d1-b1e1-9c01e2598f75",
   "metadata": {},
   "outputs": [
    {
     "name": "stdout",
     "output_type": "stream",
     "text": [
      "[1, 4, 9, 16, 25]\n"
     ]
    }
   ],
   "source": [
    "numbers = [1, 2, 3 ,4, 5]\n",
    "squared_numbers = list(map(lambda x: x ** 2, numbers))\n",
    "print(squared_numbers)"
   ]
  },
  {
   "cell_type": "code",
   "execution_count": 16,
   "id": "a6fa0bea-edd1-4580-962c-532f1321ccce",
   "metadata": {},
   "outputs": [
    {
     "name": "stdout",
     "output_type": "stream",
     "text": [
      "[(4, 'four'), (1, 'one'), (3, 'three'), (2, 'two')]\n"
     ]
    }
   ],
   "source": [
    "pairs = [(1, 'one'), (2, 'two'), (3, 'three'), (4, 'four')]\n",
    "pairs.sort(key = lambda pair:pair[1])\n",
    "print(pairs)"
   ]
  },
  {
   "cell_type": "markdown",
   "id": "deaf1d39-9d6e-4044-8e40-ff75858b1a72",
   "metadata": {},
   "source": [
    "__课后练习__ :创建一个函数计算购物车的总价，包括折扣等。"
   ]
  }
 ],
 "metadata": {
  "kernelspec": {
   "display_name": "Python 3 (ipykernel)",
   "language": "python",
   "name": "python3"
  },
  "language_info": {
   "codemirror_mode": {
    "name": "ipython",
    "version": 3
   },
   "file_extension": ".py",
   "mimetype": "text/x-python",
   "name": "python",
   "nbconvert_exporter": "python",
   "pygments_lexer": "ipython3",
   "version": "3.11.7"
  }
 },
 "nbformat": 4,
 "nbformat_minor": 5
}
