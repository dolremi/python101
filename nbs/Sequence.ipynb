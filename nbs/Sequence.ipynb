{
 "cells": [
  {
   "cell_type": "markdown",
   "id": "a419248e-71af-48fe-9c7e-32702017b22d",
   "metadata": {},
   "source": [
    "# 序列型数据结构\n",
    "在Python中，[序列]((https://docs.python.org/zh-cn/3/glossary.html#term-sequence))使用整数索引进行高效的元素访问，包括字符串string, 列表list和元组tuple，其中字符串可以看作是字符的序列，list和tuple看作是任意Python 对象的序列。"
   ]
  },
  {
   "cell_type": "markdown",
   "id": "585c02ff-ff56-43ce-b4c6-d2c82c732fc9",
   "metadata": {},
   "source": [
    "首先我们来回顾一下序列型数据结构的运算符跟数学运算符的区别吧。"
   ]
  },
  {
   "cell_type": "code",
   "execution_count": 1,
   "id": "531e399b-d6c0-4a33-91f8-ea6daaeee6cc",
   "metadata": {},
   "outputs": [
    {
     "name": "stdout",
     "output_type": "stream",
     "text": [
      "[1, 2, 4, 'a', 5, 6]\n"
     ]
    }
   ],
   "source": [
    "t1 = [1, 2, 4, 'a']\n",
    "t2 = [5, 6]\n",
    "print(t1 + t2)"
   ]
  },
  {
   "cell_type": "markdown",
   "id": "d756667d-5d5b-4b5a-8b61-aa97c03a7e9e",
   "metadata": {},
   "source": [
    "这里`+`号将两个list合并成一个list."
   ]
  },
  {
   "cell_type": "code",
   "execution_count": 2,
   "id": "787f1e60-61b4-4dd0-8cd4-f49772addf23",
   "metadata": {},
   "outputs": [
    {
     "name": "stdout",
     "output_type": "stream",
     "text": [
      "[[10, 45, 53], [10, 45, 53], [10, 45, 53]]\n"
     ]
    }
   ],
   "source": [
    "a = [10, 45, 53]\n",
    "b = 3 * [a]\n",
    "print(b)"
   ]
  },
  {
   "cell_type": "markdown",
   "id": "c4cef8ad-19bf-4391-8108-d8d1e179d066",
   "metadata": {},
   "source": [
    "这里乘号`*`对原序列进行了复制。"
   ]
  },
  {
   "cell_type": "code",
   "execution_count": 3,
   "id": "57761af4-c68e-470e-b41e-2a041f8add8c",
   "metadata": {},
   "outputs": [
    {
     "name": "stdout",
     "output_type": "stream",
     "text": [
      "[[10, 45, -49], [10, 45, -49], [10, 45, -49]]\n"
     ]
    }
   ],
   "source": [
    "a[2] = -49\n",
    "print(b)"
   ]
  },
  {
   "cell_type": "markdown",
   "id": "ae0f071f-d219-4223-a934-332fcf8c60c9",
   "metadata": {},
   "source": [
    ":::{.callout-note}\n",
    "这里的复制是浅复制，因此如果原序列更改了某个元素，复制的序列并不会改变\n",
    ":::"
   ]
  },
  {
   "cell_type": "markdown",
   "id": "323a79ab-3928-4728-80da-e1297f26f886",
   "metadata": {},
   "source": [
    "当然，我们可以通过创建新的列表来实现两个列表的同步。"
   ]
  },
  {
   "cell_type": "code",
   "execution_count": 4,
   "id": "ec74b51d-c22b-424b-8644-0fc0864c43de",
   "metadata": {},
   "outputs": [
    {
     "name": "stdout",
     "output_type": "stream",
     "text": [
      "[[10, 45, 53], [10, 45, 53], [10, 45, 53]]\n",
      "[[10, 45, 53], [10, 45, 53], [10, 45, 53]]\n"
     ]
    }
   ],
   "source": [
    "a = [10, 45, 53]\n",
    "b = [list(a) for j in range(3)]\n",
    "print(b) \n",
    "\n",
    "a[2] = -49\n",
    "print(b)"
   ]
  },
  {
   "cell_type": "markdown",
   "id": "47f9ea6e-b1bc-4de8-91ac-28a92ad1189d",
   "metadata": {},
   "source": [
    "作为序列数据结构的常用操作方式，解包可以应用到所有序列数据结构中。"
   ]
  },
  {
   "cell_type": "code",
   "execution_count": 5,
   "id": "1970aebc-6a7d-4233-9f24-593f4b9bc755",
   "metadata": {},
   "outputs": [],
   "source": [
    "name = \"Micheal\"\n",
    "a,b,c,d,e,f,g = name"
   ]
  },
  {
   "cell_type": "code",
   "execution_count": 6,
   "id": "79aeeea8-d58f-4481-be5d-5c3fa343f381",
   "metadata": {},
   "outputs": [
    {
     "name": "stdout",
     "output_type": "stream",
     "text": [
      "i\n"
     ]
    }
   ],
   "source": [
    "print(b)"
   ]
  },
  {
   "cell_type": "markdown",
   "id": "75dc7b14-1a96-4218-8a8a-d2554a0e714a",
   "metadata": {},
   "source": [
    "当需要比较两个序列数据结构时，它会从第一个元素开始比较每一个元素直到最后一个元素。对于字符串,采用[字典序](https://blog.csdn.net/oNever_say_love/article/details/49617611)lexicographical order的规则来比较"
   ]
  },
  {
   "cell_type": "code",
   "execution_count": 8,
   "id": "c93c5457-8cee-49b0-bab8-3815dd19a32e",
   "metadata": {},
   "outputs": [
    {
     "name": "stdout",
     "output_type": "stream",
     "text": [
      "True\n"
     ]
    }
   ],
   "source": [
    "a = [-3, -9, -18, -7, 5]\n",
    "print(any([t > 0 for t in a]))"
   ]
  },
  {
   "cell_type": "code",
   "execution_count": 10,
   "id": "0d504a15-b8a3-4e0e-8d50-60afcff3995a",
   "metadata": {},
   "outputs": [
    {
     "name": "stdout",
     "output_type": "stream",
     "text": [
      "False\n"
     ]
    }
   ],
   "source": [
    "print(all([t > 0 for t in a]))"
   ]
  },
  {
   "cell_type": "markdown",
   "id": "f89284e4-b0e8-4d8b-8255-21cbfda158d1",
   "metadata": {},
   "source": [
    "内置的`min`和`max`函数只能用于可以排序的序列数据结构"
   ]
  },
  {
   "cell_type": "code",
   "execution_count": 11,
   "id": "ca633863-b4dd-4eb8-93ad-cce7568becab",
   "metadata": {},
   "outputs": [
    {
     "name": "stdout",
     "output_type": "stream",
     "text": [
      "-12.3\n",
      "i\n"
     ]
    }
   ],
   "source": [
    "a = [4.3, 8.9, 3.5, -12.3]\n",
    "print(min(a))\n",
    "print(b)"
   ]
  },
  {
   "cell_type": "markdown",
   "id": "a92594c7-ae58-4f05-b030-f3602fb3686e",
   "metadata": {},
   "source": [
    "## list列表\n",
    "作为最常用的数据结构，是一个有序的，可变的序列，可以包含不同数据类型的元素。"
   ]
  },
  {
   "cell_type": "markdown",
   "id": "96e6ff5c-d898-42c9-9b84-24ee50e42c59",
   "metadata": {},
   "source": [
    "#### 创建\n",
    "列表的创建可以通过中括号来创建"
   ]
  },
  {
   "cell_type": "code",
   "execution_count": 12,
   "id": "507acc15-a994-4df8-bedf-cd68cc8184fb",
   "metadata": {},
   "outputs": [],
   "source": [
    "empty_list = []"
   ]
  },
  {
   "cell_type": "code",
   "execution_count": 13,
   "id": "2de7a240-fd1c-4f3a-be94-ebca519c30e8",
   "metadata": {},
   "outputs": [],
   "source": [
    "mixed_list = [-34, 0.618, False, '列表创建', 5+5j]"
   ]
  },
  {
   "cell_type": "code",
   "execution_count": 14,
   "id": "af4bee99-257e-4542-86de-019fd4553893",
   "metadata": {},
   "outputs": [],
   "source": [
    "coffee_list = ['瑞幸', '星巴克', 'manner', 'M stand']"
   ]
  },
  {
   "cell_type": "markdown",
   "id": "fab5417d-027c-4361-b777-75d29669684f",
   "metadata": {},
   "source": [
    "#### 长度\n",
    "作为一种序列数据结构，可以通过`len()`函数获取列表长度。"
   ]
  },
  {
   "cell_type": "code",
   "execution_count": 16,
   "id": "4c646b1b-316e-47d9-be2d-dd35b11a5f9d",
   "metadata": {},
   "outputs": [
    {
     "name": "stdout",
     "output_type": "stream",
     "text": [
      "咖啡总数是4种\n"
     ]
    }
   ],
   "source": [
    "print(f\"咖啡总数是{len(coffee_list)}种\")"
   ]
  },
  {
   "cell_type": "markdown",
   "id": "7ac43537-e20d-46a4-8bff-f5712234d745",
   "metadata": {},
   "source": [
    "#### 访问元素\n",
    "`list`作为一种序列数据结构，可以通过索引进行访问，索引依然是从$0$开始."
   ]
  },
  {
   "cell_type": "code",
   "execution_count": 21,
   "id": "aa13809a-8fd0-4e5d-ab07-be9d04299d04",
   "metadata": {},
   "outputs": [
    {
     "name": "stdout",
     "output_type": "stream",
     "text": [
      "第一个咖啡品牌瑞幸\n"
     ]
    }
   ],
   "source": [
    "print(f\"第一个咖啡品牌{coffee_list[0]}\")"
   ]
  },
  {
   "cell_type": "code",
   "execution_count": 22,
   "id": "168d7035-11a9-4fcb-a4e7-4e6f18f1ec2d",
   "metadata": {},
   "outputs": [
    {
     "name": "stdout",
     "output_type": "stream",
     "text": [
      "第二个咖啡品牌星巴克\n"
     ]
    }
   ],
   "source": [
    "print(f\"第二个咖啡品牌{coffee_list[1]}\")"
   ]
  },
  {
   "cell_type": "code",
   "execution_count": null,
   "id": "5e608eee-d2f7-474d-918e-c33269485e2b",
   "metadata": {},
   "outputs": [],
   "source": []
  }
 ],
 "metadata": {
  "kernelspec": {
   "display_name": "Python 3 (ipykernel)",
   "language": "python",
   "name": "python3"
  },
  "language_info": {
   "codemirror_mode": {
    "name": "ipython",
    "version": 3
   },
   "file_extension": ".py",
   "mimetype": "text/x-python",
   "name": "python",
   "nbconvert_exporter": "python",
   "pygments_lexer": "ipython3",
   "version": "3.11.7"
  }
 },
 "nbformat": 4,
 "nbformat_minor": 5
}
