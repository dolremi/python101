


a = 12


print(a)





b = "Hello world"


print(b)


get_ipython().run_line_magic('pinfo', 'id')





get_ipython().run_line_magic('pinfo2', 'id')





print(f'a的id是{id(a)}')


print(f'b的id是{id(b)}')


a = 13
print(f"a的id是{id(a)}")


# 我们可以看看当执行a = b会发生什么
a = b
print(f'a的值是{a}, a的id值是{id(a)}')
print(f'b的值是{b}, b的id值是{id(b)}')








a = 10
print(f'a的值是{a}, a的id值是{id(a)}')
print(f'b的值是{b}, b的id值是{id(b)}')





b = "Python is fun"
print(f'b的值是{b}, b的id值是{id(b)}')





list1 = [1, 2, 3]
list2 = list1

print(f"list1: {list1}, list1的id: {id(list1)}")
print(f"list2: {list2}, list2的id: {id(list2)}")


list1.append(4)
print(f"修改后list1: {list1}, list1的id: {id(list1)}")
print(f"list2: {list2}, list2的id: {id(list2)}")





def modify_list(lst):
    lst.append(5)

modify_list(list1)
print(f"函数调用后list1: {list1}")
print(f"函数调用后list2: {list2}")





def create_object():
    temp = "这是一个临时对象"
    print(f"临时对象的id: {id(temp)}")

create_object()






