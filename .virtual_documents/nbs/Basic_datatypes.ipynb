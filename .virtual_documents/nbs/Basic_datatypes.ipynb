





1+2


x = 2
y = -56
big_num = 44823098509234


print(big_num)





pi = 3.1415926


result = 0.1 + 0.2

# 打印结果
print(f"0.1 + 0.2 = {result}")

# 检查是否等于0.3
print(f"结果是否等于0.3：{result == 0.3}")

# 查看更多小数位
print(f"结果的更多小数位：{result:.17f}")





is_python_fun = True
is_coding_hard = False


print(type(True))   # 输出: <class 'bool'>
print(type(False))  # 输出: <class 'bool'>


print(issubclass(bool, int))  # 输出: True


print(True + 1)   # 输出: 2
print(False + 1)  # 输出: 1
print(True * 2)   # 输出: 2
""" 这是一段多行
    注释"""
print(False * 2)  # 输出: 0





z1 = 3 + 4j
z2 = complex(3, 4) 


print(z1)


print(z2)





result = None


def sample_data(data=None):
    if data is None:
        return None
    else:
        return 3


print(sample_data())


print(sample_data(32))





hello = "hello"
world = "world"
combined = hello + " " + world
print(f"{hello}的id是{id(hello)}")
print(f"{world}的id是{id(world)}")
print(f"{combined}的id是{id(combined)}")


multi = ''' 多行 输入
 的方法
 测试'''


hello_space = hello + " "
print(f"{hello_space}的id是{id(hello_space)}")





introduce = "indroduce" + " me"
print(introduce)


test = ["Hello", "World","c++", "PYTHON"]
sentence = ", ".join(test)
print(sentence)





repeat = "Na" * 6 + " Batman!" * 7
print(repeat)  





text = "Python" #[开始：结束：步数]
print(text[0])    # 输出: P
print(text[1:4])  # 输出: yth 转化为[1, 4)
print(text[::-1]) # 输出: nohtyP (反转字符串)


#尝试修改字符串某一位
greeting = "Hello"
try:
    greeting[0] = 'h'
except TypeError as e:
    print(f"Error: {e}")





sentence = "你好，这是Python课程。"
print(sentence.find("是")) 
new_sentence = sentence.replace("你", "您")
print(new_sentence)  
print(sentence)





txt = "we have apple banana and cherry."
fruits = txt.split(" ")
print(fruits) 
print(f"这里一共有{len(fruits)}个单词")





text = "Artificial Intelligent is fun"
print(text.upper())      
print(text.lower())     
print(text.capitalize())





text = "   Python   "
print(text.strip()) 





print("Python".startswith("Py"))  
print("Oth".isdigit())            


text = "Hello, world"
print(text.endswith("word"))


text = "abc"
print(text.isalpha())








name = "Tom"
age = 22
formatted = "My name is %s and I am %d years old." %(name, age)
print(formatted)





# 使用 format() 方法
name = "Alice"
age = 30
print("My name is {} and I'm {} years old".format(name, age))





name = "Judy"
age = 40
country = "USA"
print(f"My name is {name} and I'm {age} years old from {country}")


print(f"This is a new {variable}")


pi = 3.1415926
print(f"Pi is {pi:.3f}")



