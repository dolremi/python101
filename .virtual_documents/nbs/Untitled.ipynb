





t1 = [1, 2, 4, 'a']
t2 = [5, 6]
print(t1 + t2)





a = [10, 45, 53]
b = 3 * [a]
print(b)





a[2] = -49
print(b)








a = [10, 45, 53]
b = [list(a) for j in range(3)]
print(b) 

a[2] = -49
print(b)





name = "Micheal"
a,b,c,d,e,f,g = nameb


)





a = [-3, -9, -18, -7, 5]
print(any([t > 0 for t in a]))

)





a = [4.3, 8.9, 3.5, -12.3]
print(min(a))
print(b)






