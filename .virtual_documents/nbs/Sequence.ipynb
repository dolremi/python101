





t1 = [1, 2, 4, 'a']
t2 = [5, 6]
print(t1 + t2)





a = [10, 45, 53]
b = 3 * [a]
print(b)





a[2] = -49
print(b)








a = [10, 45, 53]
b = [list(a) for j in range(3)]
print(b)

a[2] = -49
print(b)





name = "Micheal"
a,b,c,d,e,f,g = name


print(b)





a = [-3, -9, -18, -7, 5]
print(any([t > 0 for t in a]))


print(all([t > 0 for t in a]))





a = [4.3, 8.9, 3.5, -12.3]
print(min(a))
print(b)








empty_list = []


mixed_list = [-34, 0.618, False, '列表创建', 5+5j]


coffee_list = ['瑞幸', '星巴克', 'manner', 'M stand']





print(f"咖啡总数是{len(coffee_list)}种")





print(f"第一个咖啡品牌{coffee_list[0]}")


print(f"第二个咖啡品牌{coffee_list[1]}")





id(coffee_list)


coffee_list[2]="雀巢"


coffee_list


id(coffee_list)





coffee_list.append("manner")
coffee_list


id(coffee_list)


coffee_list.extend(["精品咖啡", "Seattle best Coffee"])


coffee_list


id(coffee_list)


coffee_list.insert(3, "Peet's Coffee")


coffee_list


id(coffee_list)


print(b)


coffee_list.remove('精品咖啡')


coffee_list


coffee_list.pop()


coffee_list.sort()


coffee_list








squares = [x**2 for x in range(10)]
print(squares)  





even_squares = [x**2 for x in range(10) if x % 2 == 0]
print(even_squares)  





def is_even(n):
    return n % 2 == 0


even_numbers = [x for x in range(20) if is_even(x)]
print(even_numbers)











empty_tuple = ()


mixed_tuple = (-34, 0.618, False, '列表创建', 5+5j)


coffee_tuple = ('瑞幸', '星巴克', 'manner', 'M stand')





coffee_tuple[0] ="精品咖啡"
