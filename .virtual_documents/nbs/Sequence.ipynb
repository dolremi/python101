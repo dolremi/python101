





t1 = [1, 2, 4, 'a']
t2 = [5, 6]
print(t1 + t2)





a = [10, 45, 53]
b = 3 * [a]
print(b)





a[2] = -49
print(b)








a = [10, 45, 53]
b = [list(a) for j in range(3)]
print(b) 

a[2] = -49
print(b)





name = "Micheal"
a,b,c,d,e,f,g = name


print(b)





a = [-3, -9, -18, -7, 5]
print(any([t > 0 for t in a]))


print(all([t > 0 for t in a]))





a = [4.3, 8.9, 3.5, -12.3]
print(min(a))
print(b)








empty_list = []


mixed_list = [-34, 0.618, False, '列表创建', 5+5j]


coffee_list = ['瑞幸', '星巴克', 'manner', 'M stand']





print(f"咖啡总数是{len(coffee_list)}种")





print(f"第一个咖啡品牌{coffee_list[0]}")


print(f"第二个咖啡品牌{coffee_list[1]}")



